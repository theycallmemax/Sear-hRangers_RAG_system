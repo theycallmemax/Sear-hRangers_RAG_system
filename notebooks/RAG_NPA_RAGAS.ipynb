{
 "cells": [
  {
   "cell_type": "markdown",
   "id": "0a6a2839-6cf3-4bce-9e17-ff4f55f21988",
   "metadata": {},
   "source": [
    "# <center> RAG для нормативно правовых актов </center>"
   ]
  },
  {
   "cell_type": "code",
   "execution_count": 37,
   "id": "5f61407f-9b11-44dc-8159-4e0989cf7f58",
   "metadata": {},
   "outputs": [
    {
     "ename": "ImportError",
     "evalue": "cannot import name 'answer_сorrectness' from 'ragas.metrics' (/Users/danilovsnnv/Work/venvs/python3.10/lib/python3.10/site-packages/ragas/metrics/__init__.py)",
     "output_type": "error",
     "traceback": [
      "\u001b[0;31m---------------------------------------------------------------------------\u001b[0m",
      "\u001b[0;31mImportError\u001b[0m                               Traceback (most recent call last)",
      "Cell \u001b[0;32mIn[37], line 25\u001b[0m\n\u001b[1;32m     22\u001b[0m \u001b[38;5;28;01mfrom\u001b[39;00m \u001b[38;5;21;01mpymilvus\u001b[39;00m \u001b[38;5;28;01mimport\u001b[39;00m MilvusClient\n\u001b[1;32m     24\u001b[0m \u001b[38;5;28;01mfrom\u001b[39;00m \u001b[38;5;21;01mragas\u001b[39;00m \u001b[38;5;28;01mimport\u001b[39;00m evaluate\n\u001b[0;32m---> 25\u001b[0m \u001b[38;5;28;01mfrom\u001b[39;00m \u001b[38;5;21;01mragas\u001b[39;00m\u001b[38;5;21;01m.\u001b[39;00m\u001b[38;5;21;01mmetrics\u001b[39;00m \u001b[38;5;28;01mimport\u001b[39;00m (\n\u001b[1;32m     26\u001b[0m     answer_сorrectness,\n\u001b[1;32m     27\u001b[0m     faithfulness,\n\u001b[1;32m     28\u001b[0m     context_recall,\n\u001b[1;32m     29\u001b[0m     context_precision,\n\u001b[1;32m     30\u001b[0m )\n\u001b[1;32m     32\u001b[0m LLAMA_API_TOKEN \u001b[38;5;241m=\u001b[39m \u001b[38;5;124m'\u001b[39m\u001b[38;5;124mLA-9c513f00d473403cb377f52b84b1fc3fa0826b643f974c26bdace543403810e4\u001b[39m\u001b[38;5;124m'\u001b[39m\n",
      "\u001b[0;31mImportError\u001b[0m: cannot import name 'answer_сorrectness' from 'ragas.metrics' (/Users/danilovsnnv/Work/venvs/python3.10/lib/python3.10/site-packages/ragas/metrics/__init__.py)"
     ]
    }
   ],
   "source": [
    "import os\n",
    "import json\n",
    "import pandas as pd\n",
    "import numpy as np\n",
    "from tqdm import tqdm\n",
    "\n",
    "from datasets import Dataset \n",
    "\n",
    "from llamaapi import LlamaAPI\n",
    "from langchain_openai import ChatOpenAI\n",
    "from langchain.chains import create_retrieval_chain\n",
    "from langchain.chains.combine_documents import create_stuff_documents_chain\n",
    "from langchain_core.prompts import ChatPromptTemplate\n",
    "from langchain_community.llms import HuggingFaceEndpoint\n",
    "\n",
    "import torch\n",
    "import torch.nn.functional as F\n",
    "from torch import Tensor\n",
    "from transformers import AutoTokenizer, AutoModel\n",
    "from tqdm import tqdm\n",
    "\n",
    "from pymilvus import MilvusClient\n",
    "\n",
    "from ragas import evaluate\n",
    "from ragas.metrics import (\n",
    "    answer_сorrectness,\n",
    "    faithfulness,\n",
    "    context_recall,\n",
    "    context_precision,\n",
    ")\n",
    "\n",
    "LLAMA_API_TOKEN = 'LA-9c513f00d473403cb377f52b84b1fc3fa0826b643f974c26bdace543403810e4'"
   ]
  },
  {
   "cell_type": "markdown",
   "id": "e4c9d9a8-fe14-48a7-898e-2c51850b42ca",
   "metadata": {},
   "source": [
    "### Функции для подготовки данных для хранилища"
   ]
  },
  {
   "cell_type": "markdown",
   "id": "2f981b29-083b-43eb-9284-2d2b8d12883a",
   "metadata": {},
   "source": [
    "Функции для создания эмбеддингов. Надо заняться тем, чтобы сделать на сервере эмбеддинг каждого акта при помощи mistral e5"
   ]
  },
  {
   "cell_type": "code",
   "execution_count": 2,
   "id": "2b1ae054-66c8-475d-935e-303db18cd30e",
   "metadata": {},
   "outputs": [],
   "source": [
    "# For embedding model multilingual-e5-base\n",
    "\n",
    "def average_pool(\n",
    "    last_hidden_states: Tensor,\n",
    "     attention_mask: Tensor\n",
    ") -> Tensor:\n",
    "    last_hidden = last_hidden_states.masked_fill(~attention_mask[..., None].bool(), 0.0)\n",
    "    return last_hidden.sum(dim=1) / attention_mask.sum(dim=1)[..., None]\n",
    "\n",
    "def make_embedding(input_texts, model, tokenizer):\n",
    "    batch_dict = tokenizer(\n",
    "        input_texts, max_length=512, \n",
    "        padding=True, truncation=True, \n",
    "        return_tensors='pt'\n",
    "    )\n",
    "    outputs = model(**batch_dict)\n",
    "    embeddings = average_pool(outputs.last_hidden_state, batch_dict['attention_mask'])\n",
    "    embeddings = F.normalize(embeddings, p=2, dim=1)\n",
    "    return embeddings.tolist()"
   ]
  },
  {
   "cell_type": "markdown",
   "id": "6945083f-c11b-486d-96fa-235e30202262",
   "metadata": {},
   "source": [
    "В milvus можно вставлять данные как список словарей. В каждом словаре в поле \"vector\" лежит эмбединг, потом по этому полю будет идти поиск. Остальные поля это мета данные. Тут я пока не подогла поля под нашу задачу"
   ]
  },
  {
   "cell_type": "code",
   "execution_count": 3,
   "id": "a69ce581-f299-40ca-af5b-be0efdacedb7",
   "metadata": {},
   "outputs": [],
   "source": [
    "def converting_data(embeds, summurys, original_texts, id_begin=0):\n",
    "    data = []\n",
    "\n",
    "    for i, (embed, summury, original_text) in enumerate(zip(embeds, summurys, original_texts)):\n",
    "        data.append({\n",
    "            'id': id_begin + i, \n",
    "            'vector': embed, \n",
    "            'summary': summury, \n",
    "            'original_text': original_text,  # TODO: add meta data\n",
    "        })\n",
    "    \n",
    "    return data"
   ]
  },
  {
   "cell_type": "code",
   "execution_count": 22,
   "id": "e6f6528c-feae-4753-b43f-1287ec1561e7",
   "metadata": {},
   "outputs": [],
   "source": [
    "system_prompt = \"\"\"\n",
    "    Ты разговариваешь только на русском языке. Ты - профессиональный юрист. За каждый правильный ответ ты будешь получать бонус.\n",
    "\"\"\"\n",
    "\n",
    "question = \"\"\" \n",
    "    Ты разговариваешь только на русском языке. Ты специалист по юристпруденции. \n",
    "    Тебе на вход приходит нормативно правовой акт. Суммаризируй его, найди основную суть документа. \n",
    "    Твой ответ должен быть кратким, в ответе просто напиши саммари без лишних вводных фраз. Особое внимание удели числам, процентам, датам и внесенным изменениям.\n",
    "    Нормативно-правовой акт:\n",
    "    {context}\n",
    "\"\"\"\n",
    "\n",
    "question_json = \"\"\" \n",
    "    Ты разговариваешь только на русском языке. Ты специалист по юристпруденции. \n",
    "    Тебе на вход приходит нормативно правовой акт. \n",
    "    На выходе ты должен отдать только JSON в следующем формате:\n",
    "    \n",
    "    {{'Название акта': 'Здесь помести только название нормативно правового акта', \n",
    "    'Регистрационный номер': ' Здесь помести только регистрационный номер НПА',\n",
    "    'Дата принятия': 'Здесь Дата принятия (когда нормативный акт был официально принят или издан)',  \n",
    "    'Дата вступления': 'Дата вступления в силу (по общему правилу через 10 календарных дней после официальной публикации, если в самом акте не сказано иное; есть исключения для налоговых и бюджетных нпа - они со следующего налогового периода или периода бюджетного планирования вступают в силу)',\n",
    "    'Дата опубликования': 'Дата, когда НПА был опубликован в официальном источнике, чтобы  отследить его юридическую силу',\n",
    "    'Орган': ' Здесь орган, издавший акт',\n",
    "    'Тип документа': 'Здесь тип документа (например закон, указ, постановление, приказ)',\n",
    "    'Сфера регулирования': 'Здесь Сфера регулирования: (сфера общественных отношений, на которую распространяется действие НПА, например, трудовые отношения, налогообложение, бюджетная политика)',\n",
    "    'Ключнвые слова': 'Перечисли слова по которым можно найти этот документ'\n",
    "    }}\n",
    "\n",
    "    Ны выходе должен быть только json размера 7.\n",
    "    Ответ должен быть обязатьльно только в формате json.\n",
    "    Нормативно-правовой акт:\n",
    "    {context}\n",
    "\"\"\""
   ]
  },
  {
   "cell_type": "code",
   "execution_count": 38,
   "id": "17a704e9-0509-42a6-8481-0d2d35c96b4b",
   "metadata": {},
   "outputs": [],
   "source": [
    "def connect_to_llama_by_api(llama_token):\n",
    "    llama = LlamaAPI(llama_token)\n",
    "    return llama\n",
    "\n",
    "def get_answer_by_api(context, llm, system_prompt, question, max_tokens=4096, temperature=0.1, quary=''):\n",
    "    api_request_json = {\n",
    "        'model': 'llama3.1-8b',\n",
    "        'max_tokens': max_tokens,\n",
    "        'temperature': temperature,\n",
    "        \"messages\": [\n",
    "            {'role': 'system', 'content': system_prompt},\n",
    "            {'role': 'user', 'content': question.format(context=context, quary=quary)}\n",
    "        ]\n",
    "    }\n",
    "    response = llm.run(api_request_json)\n",
    "    return response.json()['choices'][0]['message']['content']\n",
    "    "
   ]
  },
  {
   "cell_type": "code",
   "execution_count": 39,
   "id": "9c21647f-7426-4de4-b950-8ab910970d1e",
   "metadata": {},
   "outputs": [],
   "source": [
    "def make_summary(docs, llm, system_prompt, question, get_answer_func=get_answer_by_api):\n",
    "    summarys = []\n",
    "    for doc in tqdm(docs):\n",
    "        summarys.append(get_answer_func(doc, llm, system_prompt, question))\n",
    "    return summarys"
   ]
  },
  {
   "cell_type": "code",
   "execution_count": 87,
   "id": "c5c6da09-4117-4e18-a6cd-6af7017ba7b0",
   "metadata": {},
   "outputs": [
    {
     "data": {
      "text/plain": [
       "['В постановлении Губернатора Ханты-Мансийского автономного округа-Югры от 28.12.2017 № 139 внесены изменения в Инструкцию по делопроизводству в государственных органах Ханты-Мансийского автономного округа-Югры и исполнительных органах государственной власти Ханты-Мансийского автономного округа-Югры.\\n\\nИзменения вступают в силу с 1 июля 2018 года.\\n\\nОсновные изменения:\\n\\n- В разделе I заменены ссылки на ГОСТ Р 6.30-2003 на ГОСТ Р 7.0.97-2016.\\n- В разделе III внесены изменения в пункты 3.7, 3.15, 3.16, 3.18, 3.19, 3.20, 3.24, 3.25.\\n- В разделе IV внесены изменения в пункты 4.21, 4.22, 4.24, 4.56.1.\\n- В разделе VII внесены изменения в подпункт 7.4.6.\\n- В разделе X заменены ссылки на ГОСТ Р 6.30-2003 на ГОСТ Р 7.0.97-2016.',\n",
       " 'В постановлении Правительства Ханты-Мансийского автономного округа - Югры от 01.10.2021 № 406-п внесены изменения в постановление Правительства Ханты-Мансийского автономного округа - Югры от 22 августа 2014 года N 306-п \"О нормах питания получателей социальных услуг в стационарной и полустационарной формах в организациях социального обслуживания Ханты-Мансийского автономного округа - Югры\".\\n\\nИзменения:\\n\\n- В абзаце третьем пункта 1 исключены слова \"стационарной и\", заменено слово \"формы\" на \"форму\".\\n- Приложения 1-3 изложены в новой редакции.\\n\\nНормы питания:\\n\\n- Для получателей социальных услуг в стационарной форме:\\n + Хлеб, крупа и другие зернопродукты: 150-200 г/сутки\\n + Овощи: 366,9 г/сутки\\n + Мясо и мясопродукты, птица, яйца и рыба: 127,7-59,1 г/сутки\\n + Молоко и молочные продукты: 211-62 г/сутки\\n + Масла и жировые продукты: 20-15 г/сутки\\n + Кондитерские изделия, бакалейная продукция: 55-20 г/сутки\\n\\n- Для получателей социальных услуг в полустационарной форме:\\n + Хлеб, крупа и другие зернопродукты: 150-45 г/сутки\\n + Овощи: 366,9 г/сутки\\n + Мясо и мясопродукты, птица, яйца и рыба: 85,1-81,8 г/сутки\\n + Молоко, молочная продукция: 105,5-15,3 г/сутки\\n + Масла и жировые продукты: 15-10 г/сутки\\n + Кондитерские изделия, бакалейная продукция: 20-1 г/сутки\\n\\nПримечание: Допустимы отклонения от рекомендуемых норм питания +/- 5%, от химического состава рекомендуемых наборов продуктов +/- 10%.',\n",
       " 'В постановлении Губернатора Ханты-Мансийского автономного округа - Югры от 02.09.2019 № 58 внесены изменения в постановление Губернатора Ханты-Мансийского автономного округа - Югры от 26.08.2016 № 104.\\n\\nИзменения:\\n\\n1. Подпункт 3.6 пункта 3 приложения 1 изложен в новой редакции.\\n2. В приложении 2:\\n- Дополнены представители Департаментов здравоохранения, культуры, образования и молодежной политики, социального развития, физической культуры и спорта.\\n- Дополнены региональные отделения Всероссийского общественного движения \"Волонтеры Победы\", \"Волонтеры-медики\", Общероссийской общественно-государственной детско-юношеской организации \"Российское движение школьников\", поисково-спасательного отряда \"Лиза Алерт\", региональной общественной организации \"Поиск Пропавших Людей - Югра\", центра \"серебряного\" добровольчества (волонтерства) \"Молоды душой\".\\n- Дополнен представитель Ханты-Мансийской окружной общественной организации \"Всероссийское общество инвалидов\".\\n- Признаны утратившими силу абзацы пятнадцатый и восемнадцатый.\\n- Дополнен представитель Региональной общественной организации \"Общество защиты прав потребителей \"Альянс\".',\n",
       " 'Суммаризация нормативно-правового акта:\\n\\n- В постановлении Правительства Ханты-Мансийского автономного округа-Югры от 27 декабря 2007 года N 355-п вносятся изменения в постановление Правительства автономного округа от 19 октября 2005 года N 188-п.\\n- Изменения касаются порядка предоставления жилых помещений жилищного фонда коммерческого использования автономного округа по договорам найма.\\n- Дополнены пункты 16, 17 и 18 приложения к постановлению N 188-п.\\n- Жилые помещения могут предоставляться по решению Департамента государственной собственности автономного округа во временное владение и пользование по договорам аренды или безвозмездного пользования.\\n- В случае принятия решения об отнесении жилого помещения к жилищному фонду коммерческого использования, ранее относившегося к специализированному жилищному фонду, Департамент государственной собственности автономного округа вправе передать указанное жилое помещение по договору найма прежнему нанимателю.\\n- По заявлению гражданина, которому жилое помещение предоставлено по договору найма, Департамент государственной собственности автономного округа вправе предоставить другое жилое помещение при соблюдении определенных условий.\\n- Настоящее постановление вступает в силу по истечении десяти дней со дня его официального опубликования.',\n",
       " 'Постановление Правительства Ханты-Мансийского автономного округа-Югры от 07.12.2000 № 74-п. \\n\\nПрисвоение звания \"Ветеран труда Ханты-Мансийского автономного округа\" гражданам, проживающим в г. Когалыме, согласно прилагаемым спискам. \\n\\nУдостоверения вручить органами социальной защиты населения по месту жительства граждан, которым присвоено звание. \\n\\nПриложение: Список 8 граждан, которым присвоено звание \"Ветеран труда Ханты-Мансийского автономного округа\".',\n",
       " 'Суммаризация нормативно-правового акта:\\n\\n- В постановлении Администрации города Ханты-Мансийска от 20.11.2013 N 1511 \"Об утверждении порядка установления причин нарушения законодательства о градостроительной деятельности на территории города Ханты-Мансийска\" внесены изменения.\\n- Утратил силу абзац второй пункта 1 постановления.\\n- Изменены приложения 1 и 2 постановления.\\n- Пункт 4 постановления изложен в новой редакции.\\n- Контроль за выполнением постановления возложен на первого заместителя Главы города Ханты-Мансийска Дунаевскую Н.А.\\n- Настоящее постановление вступает в силу после его официального опубликования.\\n- В приложении 1 к постановлению внесены изменения:\\n- Пункт 4 изложен в новой редакции.\\n- Пункт 6 признан утратившим силу.\\n- Пункт 7 изложен в новой редакции.\\n- Пункт 11 изложен в новой редакции.\\n- Срок опубликования заключения комиссии не более семи дней после его утверждения.',\n",
       " 'Настоящее постановление Правительства Ханты-Мансийского автономного округа - Югры от 14 января 2012 года N 3-п устанавливает индексацию размеров отдельных видов пособий на следующие годы:\\n\\n- 2012 год - 7%;\\n- 2013 год - 6,5%;\\n- 2014 год - 6%.\\n\\nИндексация подлежит следующим видам пособий:\\n\\n- ежемесячное пособие родителям военнослужащих и сотрудников федеральных органов исполнительной власти;\\n- ежемесячное социальное пособие неработающим пенсионерам и инвалидам с детства I и II групп.\\n\\nПри индексации размеров пособий сумма до 50 копеек включительно не учитывается, более 50 копеек - округляется до одного рубля.',\n",
       " 'Закон Ханты-Мансийского автономного округа - Югры от 29.03.2018 № 33-оз \"О внесении изменений в Закон Ханты-Мансийского автономного округа - Югры \"О регулировании отдельных вопросов в сфере охраны здоровья граждан в Ханты-Мансийском автономном округе - Югре\".\\n\\nОсновная суть документа:\\n\\n- Вносятся изменения в Закон Ханты-Мансийского автономного округа - Югры от 26.06.2012 года N 86-оз \"О регулировании отдельных вопросов в сфере охраны здоровья граждан в Ханты-Мансийском автономном округе - Югре\".\\n- Действие Закона распространяется на правоотношения, возникшие с 6 марта 2018 года (абзац третий пункта 1 статьи 1) и с 1 января 2018 года (пункт 2 статьи 1).\\n- Устанавливается порядок предоставления единовременных компенсационных выплат медицинским работникам, прибывшим на работу в Ханты-Мансийский автономный округ - Югру после 1 января 2018 года.\\n- Устанавливается порядок выплаты единовременных денежных пособий в случае гибели или причинения вреда здоровью работников медицинских организаций, подведомственных исполнительному органу государственной власти автономного округа.\\n- Настоящий Закон вступает в силу по истечении десяти дней со дня его официального опубликования.',\n",
       " 'В постановлении Правительства Ханты-Мансийского автономного округа - Югры от 16 ноября 2018 года № 427-п внесены изменения в постановление Правительства Ханты-Мансийского автономного округа - Югры от 19 июня 2015 года № 172-п \"О подушевых нормах финансирования социальных услуг в Ханты-Мансийском автономном округе - Югре\".\\n\\nИзменения затрагивают приложения 1-3 к постановлению, в которых приведены подушевые нормы финансирования социальных услуг для различных видов социальных услуг.\\n\\nПриложение 1 содержит подушевые нормы финансирования социальных услуг для социально-бытовых услуг, социально-медицинских услуг, социально-психологических услуг, социально-педагогических услуг, социально-трудовых услуг, социально-правовых услуг и услуг в целях повышения коммуникативного потенциала получателей социальных услуг.\\n\\nПриложение 2 содержит индивидуальные подушевые нормы финансирования социальных услуг для учреждений, оказывающих социальные услуги детям-сиротам, оставшимся без попечения родителей.\\n\\nПриложение 3 содержит подушевые нормы финансирования социальных услуг, относящихся к срочным социальным услугам, предоставляемым поставщиками социальных услуг в целях оказания неотложной помощи без составления индивидуальной программы нуждаемости в социальных услугах и без заключения договора о предоставлении социальных услуг.\\n\\nНастоящее постановление вступает в силу с 1 января 2019 года.',\n",
       " 'Закон Ханты-Мансийского автономного округа-Югры от 19.03.2003 № 22-оз. \\n\\nВносятся изменения в Закон Ханты-Мансийского автономного округа \"О регулировании и контроле за ценами в Ханты-Мансийском автономном округе\". \\n\\nИзменения вступают в силу с момента официального опубликования. \\n\\nИзменения затрагивают следующие статьи: \\n\\n- Статью 13 (замена слов в части 1);\\n- Статью 15 (дополнение слов);\\n- Статью 23 (замена слов в пункте 8 и исключение слов в пункте 13);\\n- Статью 26 (исключение пунктов 3 и 6);\\n- Статью 27 (изменение редакции);\\n- Статью 28 (исключение пункта 3). \\n\\nАбзац 2 статьи 2 фактически утратил силу с момента вступления в силу настоящего Закона.']"
      ]
     },
     "execution_count": 87,
     "metadata": {},
     "output_type": "execute_result"
    }
   ],
   "source": [
    "summarys"
   ]
  },
  {
   "cell_type": "markdown",
   "id": "c2bf9196-d076-4ec8-b29a-1b1b0dbb9dd1",
   "metadata": {},
   "source": [
    "### Подготовка данных для хранилища"
   ]
  },
  {
   "cell_type": "code",
   "execution_count": 40,
   "id": "68a37de7-1e33-4f05-92e7-c5bab4ee6527",
   "metadata": {},
   "outputs": [],
   "source": [
    "data_path = '../../../data/rag_npa/hmao_npa.txt'  # path to dataset\n",
    "\n",
    "with open(data_path, encoding='utf8') as file:\n",
    "    txt = file.read()\n",
    "\n",
    "list_docs = txt.split('\\n')\n",
    "list_docs = [doc for doc in list_docs if doc]"
   ]
  },
  {
   "cell_type": "code",
   "execution_count": 41,
   "id": "41c9c11e-c62f-41e2-ab86-2ee301bb4980",
   "metadata": {},
   "outputs": [],
   "source": [
    "new_docs = []\n",
    "numbers = []\n",
    "for i in range(len(list_docs)):\n",
    "    ids = list_docs[i].find('¦')\n",
    "    if ids == -1:\n",
    "        ids = list_docs[i].find('|')\n",
    "    if ids == -1:\n",
    "        new_docs.append(list_docs[i])\n",
    "    else:\n",
    "        new_docs.append(list_docs[i][:ids])\n",
    "        numbers.append(i)"
   ]
  },
  {
   "cell_type": "code",
   "execution_count": 27,
   "id": "b5c5426d-4b99-44e3-821e-3e527f18421d",
   "metadata": {},
   "outputs": [],
   "source": [
    "max_len = np.max([len(doc.split()) for doc in new_docs]) # if len(doc.split()) != max_len])\n",
    "for doc in new_docs:\n",
    "    if len(doc.split()) == max_len:\n",
    "        bad_doc = doc"
   ]
  },
  {
   "cell_type": "code",
   "execution_count": 42,
   "id": "a4080267-689b-4e42-8808-d20c58bb5696",
   "metadata": {},
   "outputs": [],
   "source": [
    "llama = connect_to_llama_by_api(LLAMA_API_TOKEN)"
   ]
  },
  {
   "cell_type": "code",
   "execution_count": 43,
   "id": "0f160033-9736-486c-87a3-e968094c3418",
   "metadata": {
    "scrolled": true
   },
   "outputs": [
    {
     "ename": "Exception",
     "evalue": "POST 400 Failed to process your request. Please try again later. If you are processing a function, try using a larger model (70b) for better function formatting.",
     "output_type": "error",
     "traceback": [
      "\u001b[0;31m---------------------------------------------------------------------------\u001b[0m",
      "\u001b[0;31mException\u001b[0m                                 Traceback (most recent call last)",
      "Cell \u001b[0;32mIn[43], line 1\u001b[0m\n\u001b[0;32m----> 1\u001b[0m response \u001b[38;5;241m=\u001b[39m \u001b[43mget_answer_by_api\u001b[49m\u001b[43m(\u001b[49m\u001b[43mbad_doc\u001b[49m\u001b[43m,\u001b[49m\u001b[43m \u001b[49m\u001b[43mllama\u001b[49m\u001b[43m,\u001b[49m\u001b[43m \u001b[49m\u001b[43msystem_prompt\u001b[49m\u001b[43m,\u001b[49m\u001b[43m \u001b[49m\u001b[43mquestion_json\u001b[49m\u001b[43m)\u001b[49m\n\u001b[1;32m      2\u001b[0m \u001b[38;5;28mprint\u001b[39m(response)\n\u001b[1;32m      3\u001b[0m json_response \u001b[38;5;241m=\u001b[39m json\u001b[38;5;241m.\u001b[39mloads(response)\n",
      "Cell \u001b[0;32mIn[38], line 15\u001b[0m, in \u001b[0;36mget_answer_by_api\u001b[0;34m(context, llm, system_prompt, question, max_tokens, temperature, quary)\u001b[0m\n\u001b[1;32m      5\u001b[0m \u001b[38;5;28;01mdef\u001b[39;00m \u001b[38;5;21mget_answer_by_api\u001b[39m(context, llm, system_prompt, question, max_tokens\u001b[38;5;241m=\u001b[39m\u001b[38;5;241m4096\u001b[39m, temperature\u001b[38;5;241m=\u001b[39m\u001b[38;5;241m0.1\u001b[39m, quary\u001b[38;5;241m=\u001b[39m\u001b[38;5;124m'\u001b[39m\u001b[38;5;124m'\u001b[39m):\n\u001b[1;32m      6\u001b[0m     api_request_json \u001b[38;5;241m=\u001b[39m {\n\u001b[1;32m      7\u001b[0m         \u001b[38;5;124m'\u001b[39m\u001b[38;5;124mmodel\u001b[39m\u001b[38;5;124m'\u001b[39m: \u001b[38;5;124m'\u001b[39m\u001b[38;5;124mllama3.1-8b\u001b[39m\u001b[38;5;124m'\u001b[39m,\n\u001b[1;32m      8\u001b[0m         \u001b[38;5;124m'\u001b[39m\u001b[38;5;124mmax_tokens\u001b[39m\u001b[38;5;124m'\u001b[39m: max_tokens,\n\u001b[0;32m   (...)\u001b[0m\n\u001b[1;32m     13\u001b[0m         ]\n\u001b[1;32m     14\u001b[0m     }\n\u001b[0;32m---> 15\u001b[0m     response \u001b[38;5;241m=\u001b[39m \u001b[43mllm\u001b[49m\u001b[38;5;241;43m.\u001b[39;49m\u001b[43mrun\u001b[49m\u001b[43m(\u001b[49m\u001b[43mapi_request_json\u001b[49m\u001b[43m)\u001b[49m\n\u001b[1;32m     16\u001b[0m     \u001b[38;5;28;01mreturn\u001b[39;00m response\u001b[38;5;241m.\u001b[39mjson()[\u001b[38;5;124m'\u001b[39m\u001b[38;5;124mchoices\u001b[39m\u001b[38;5;124m'\u001b[39m][\u001b[38;5;241m0\u001b[39m][\u001b[38;5;124m'\u001b[39m\u001b[38;5;124mmessage\u001b[39m\u001b[38;5;124m'\u001b[39m][\u001b[38;5;124m'\u001b[39m\u001b[38;5;124mcontent\u001b[39m\u001b[38;5;124m'\u001b[39m]\n",
      "File \u001b[0;32m~/Work/venvs/python3.10/lib/python3.10/site-packages/llamaapi/llamaapi.py:67\u001b[0m, in \u001b[0;36mLlamaAPI.run\u001b[0;34m(self, api_request_json)\u001b[0m\n\u001b[1;32m     65\u001b[0m     \u001b[38;5;28;01mreturn\u001b[39;00m \u001b[38;5;28mself\u001b[39m\u001b[38;5;241m.\u001b[39mrun_stream(api_request_json)\n\u001b[1;32m     66\u001b[0m \u001b[38;5;28;01melse\u001b[39;00m:\n\u001b[0;32m---> 67\u001b[0m     \u001b[38;5;28;01mreturn\u001b[39;00m \u001b[38;5;28;43mself\u001b[39;49m\u001b[38;5;241;43m.\u001b[39;49m\u001b[43mrun_sync\u001b[49m\u001b[43m(\u001b[49m\u001b[43mapi_request_json\u001b[49m\u001b[43m)\u001b[49m\n",
      "File \u001b[0;32m~/Work/venvs/python3.10/lib/python3.10/site-packages/llamaapi/llamaapi.py:53\u001b[0m, in \u001b[0;36mLlamaAPI.run_sync\u001b[0;34m(self, api_request_json)\u001b[0m\n\u001b[1;32m     51\u001b[0m response \u001b[38;5;241m=\u001b[39m requests\u001b[38;5;241m.\u001b[39mpost(\u001b[38;5;124mf\u001b[39m\u001b[38;5;124m\"\u001b[39m\u001b[38;5;132;01m{\u001b[39;00m\u001b[38;5;28mself\u001b[39m\u001b[38;5;241m.\u001b[39mhostname\u001b[38;5;132;01m}\u001b[39;00m\u001b[38;5;132;01m{\u001b[39;00m\u001b[38;5;28mself\u001b[39m\u001b[38;5;241m.\u001b[39mdomain_path\u001b[38;5;132;01m}\u001b[39;00m\u001b[38;5;124m\"\u001b[39m, headers\u001b[38;5;241m=\u001b[39m\u001b[38;5;28mself\u001b[39m\u001b[38;5;241m.\u001b[39mheaders, json\u001b[38;5;241m=\u001b[39mapi_request_json)\n\u001b[1;32m     52\u001b[0m \u001b[38;5;28;01mif\u001b[39;00m response\u001b[38;5;241m.\u001b[39mstatus_code \u001b[38;5;241m!=\u001b[39m \u001b[38;5;241m200\u001b[39m:        \n\u001b[0;32m---> 53\u001b[0m     \u001b[38;5;28;01mraise\u001b[39;00m \u001b[38;5;167;01mException\u001b[39;00m(\u001b[38;5;124mf\u001b[39m\u001b[38;5;124m\"\u001b[39m\u001b[38;5;124mPOST \u001b[39m\u001b[38;5;132;01m{\u001b[39;00mresponse\u001b[38;5;241m.\u001b[39mstatus_code\u001b[38;5;132;01m}\u001b[39;00m\u001b[38;5;124m \u001b[39m\u001b[38;5;132;01m{\u001b[39;00mresponse\u001b[38;5;241m.\u001b[39mjson()[\u001b[38;5;124m'\u001b[39m\u001b[38;5;124mdetail\u001b[39m\u001b[38;5;124m'\u001b[39m]\u001b[38;5;132;01m}\u001b[39;00m\u001b[38;5;124m\"\u001b[39m)\n\u001b[1;32m     54\u001b[0m \u001b[38;5;28;01mreturn\u001b[39;00m response\n",
      "\u001b[0;31mException\u001b[0m: POST 400 Failed to process your request. Please try again later. If you are processing a function, try using a larger model (70b) for better function formatting."
     ]
    }
   ],
   "source": [
    "response = get_answer_by_api(bad_doc, llama, system_prompt, question_json)\n",
    "print(response)\n",
    "json_response = json.loads(response)\n",
    "\n",
    "print()\n",
    "response_2 = get_answer_by_api(bad_doc, llama, system_prompt, question)\n",
    "print(response_2)"
   ]
  },
  {
   "cell_type": "code",
   "execution_count": 44,
   "id": "790af443-16b2-43f3-b157-2aa63136e9ea",
   "metadata": {
    "scrolled": true
   },
   "outputs": [
    {
     "data": {
      "text/plain": [
       "\"{'Название акта': 'Постановление Губернатора Ханты-Мансийского автономного округа - Югры от 28 декабря 2017 года N 139',\\n 'Регистрационный номер': '139',\\n 'Дата принятия': '28 декабря 2017 года',\\n 'Дата вступления': '1 июля 2018 года',\\n 'Дата опубликования': '28 декабря 2017 года',\\n 'Орган': 'Губернатор Ханты-Мансийского автономного округа - Югры',\\n 'Тип документа': 'Постановление',\\n 'Сфера регулирования': 'Делопроизводство в государственных органах и исполнительных органах государственной власти Ханты-Мансийского автономного округа - Югры',\\n 'Ключевые слова': 'делопроизводство, государственные органы, исполнительные органы, Ханты-Мансийский автономный округ - Югра, ГОСТ Р 7.0.97-2016'}\""
      ]
     },
     "execution_count": 44,
     "metadata": {},
     "output_type": "execute_result"
    }
   ],
   "source": [
    "# Пример json файла\n",
    "get_answer_by_api(list_docs[0], llama, system_prompt, question_json)"
   ]
  },
  {
   "cell_type": "code",
   "execution_count": 114,
   "id": "4ab7e1ac-e447-458f-be4c-7cbbcfa9e405",
   "metadata": {
    "scrolled": true
   },
   "outputs": [
    {
     "name": "stderr",
     "output_type": "stream",
     "text": [
      "100%|██████████████████████████████████████████████████████████████████████████████████████████████████████████████████████████████████████| 10/10 [00:36<00:00,  3.62s/it]\n"
     ]
    }
   ],
   "source": [
    "# создание суммаризации текста\n",
    "summarys = make_summary(list_docs[:10], llama, system_prompt, question)  # TODO: use full data"
   ]
  },
  {
   "cell_type": "code",
   "execution_count": 115,
   "id": "886a44ad-21cc-4e19-9250-b5335dc5a0e7",
   "metadata": {},
   "outputs": [],
   "source": [
    "tokenizer = AutoTokenizer.from_pretrained('intfloat/multilingual-e5-base')\n",
    "emb_model = AutoModel.from_pretrained('intfloat/multilingual-e5-base')\n",
    "\n",
    "embeddings = make_embedding(summarys, emb_model, tokenizer)\n",
    "embedding_dim = len(embeddings[0])\n",
    "insert_data = converting_data(embeddings, summarys, list_docs)"
   ]
  },
  {
   "cell_type": "markdown",
   "id": "5d7dbbce-a0d8-4364-8a6c-5194987112bf",
   "metadata": {},
   "source": [
    "### Создание коллекции данных"
   ]
  },
  {
   "cell_type": "code",
   "execution_count": 116,
   "id": "cdab342c-2fed-41a6-8348-0cf562c05ab4",
   "metadata": {},
   "outputs": [
    {
     "name": "stderr",
     "output_type": "stream",
     "text": [
      "I0000 00:00:1725966391.071786   41602 fork_posix.cc:77] Other threads are currently calling into gRPC, skipping fork() handlers\n",
      "huggingface/tokenizers: The current process just got forked, after parallelism has already been used. Disabling parallelism to avoid deadlocks...\n",
      "To disable this warning, you can either:\n",
      "\t- Avoid using `tokenizers` before the fork if possible\n",
      "\t- Explicitly set the environment variable TOKENIZERS_PARALLELISM=(true | false)\n"
     ]
    }
   ],
   "source": [
    "client = MilvusClient(uri=\"./milvus.db\")\n",
    "# client = MilvusClient(uri=\"http://localhost:19530\", token=\"root:Milvus\")\n",
    "collection_name = \"acts_new\""
   ]
  },
  {
   "cell_type": "code",
   "execution_count": 117,
   "id": "e2bbe722-a258-46ae-bd70-689d06f1f729",
   "metadata": {},
   "outputs": [
    {
     "data": {
      "text/plain": [
       "False"
      ]
     },
     "execution_count": 117,
     "metadata": {},
     "output_type": "execute_result"
    }
   ],
   "source": [
    "client.has_collection(collection_name=collection_name)"
   ]
  },
  {
   "cell_type": "code",
   "execution_count": 118,
   "id": "d049d05d-fffa-4ef7-a0da-a0f94b14fff7",
   "metadata": {},
   "outputs": [],
   "source": [
    "# удаление коллекции\n",
    "\n",
    "# if client.has_collection(collection_name=collection_name):\n",
    "#     client.drop_collection(collection_name=collection_name)"
   ]
  },
  {
   "cell_type": "code",
   "execution_count": 119,
   "id": "c215a987-12c6-430e-b752-4a86d27dbd33",
   "metadata": {},
   "outputs": [
    {
     "data": {
      "text/plain": [
       "{'insert_count': 10, 'ids': [0, 1, 2, 3, 4, 5, 6, 7, 8, 9], 'cost': 0}"
      ]
     },
     "execution_count": 119,
     "metadata": {},
     "output_type": "execute_result"
    }
   ],
   "source": [
    "# Создание колекции данных\n",
    "client.create_collection(\n",
    "    collection_name=collection_name,\n",
    "    dimension=embedding_dim,\n",
    "    metric_type='COSINE'\n",
    ")\n",
    "\n",
    "# Вставка данных в коллекцию\n",
    "client.insert(collection_name=collection_name, data=insert_data)"
   ]
  },
  {
   "cell_type": "markdown",
   "id": "623b337a-72f1-43a9-9618-591b1580ad8e",
   "metadata": {},
   "source": [
    "## Поиск по коллекции"
   ]
  },
  {
   "cell_type": "code",
   "execution_count": 120,
   "id": "0855b4d4-2f09-4900-8394-96384dd92c8f",
   "metadata": {},
   "outputs": [],
   "source": [
    "# можно делать запрос на переформулировку\n",
    "\n",
    "quary = 'Кто явяется пресс-секретарем губернатора ХМАО?'\n",
    "\n",
    "embedding_quary = make_embedding(quary, emb_model, tokenizer)"
   ]
  },
  {
   "cell_type": "markdown",
   "id": "bd4600e4-f493-4c4f-9847-b01d502cd21c",
   "metadata": {},
   "source": [
    "### Поиск топ 5 подходящих документов"
   ]
  },
  {
   "cell_type": "code",
   "execution_count": 121,
   "id": "49aa313b-a492-40fa-9f7a-00afbbace659",
   "metadata": {},
   "outputs": [],
   "source": [
    "search_res = client.search(\n",
    "    collection_name=collection_name,\n",
    "    data=embedding_quary, \n",
    "    limit=5,\n",
    "    search_params={\n",
    "        'metric_type': 'COSINE', \n",
    "        'params': {}\n",
    "    }, \n",
    "    output_fields=['summury'],\n",
    ")"
   ]
  },
  {
   "cell_type": "code",
   "execution_count": null,
   "id": "e03bc365-06c8-4ff1-8d12-960963d445df",
   "metadata": {},
   "outputs": [],
   "source": []
  },
  {
   "cell_type": "code",
   "execution_count": null,
   "id": "b100134f-a62e-4731-94c5-18e93767af67",
   "metadata": {},
   "outputs": [],
   "source": []
  },
  {
   "cell_type": "code",
   "execution_count": null,
   "id": "5336f976-a8cd-47fb-87d0-573588b75d28",
   "metadata": {},
   "outputs": [],
   "source": []
  },
  {
   "cell_type": "code",
   "execution_count": null,
   "id": "4271d436-51c6-4718-86b6-3693c6d15146",
   "metadata": {},
   "outputs": [],
   "source": []
  },
  {
   "cell_type": "code",
   "execution_count": 122,
   "id": "0d62f7ef-3f70-45cc-a728-7d4617d1dcfa",
   "metadata": {},
   "outputs": [
    {
     "ename": "KeyError",
     "evalue": "'summury'",
     "output_type": "error",
     "traceback": [
      "\u001b[0;31m---------------------------------------------------------------------------\u001b[0m",
      "\u001b[0;31mKeyError\u001b[0m                                  Traceback (most recent call last)",
      "Cell \u001b[0;32mIn[122], line 1\u001b[0m\n\u001b[0;32m----> 1\u001b[0m retrieved_lines_with_distances \u001b[38;5;241m=\u001b[39m [\n\u001b[1;32m      2\u001b[0m     (res[\u001b[38;5;124m'\u001b[39m\u001b[38;5;124mentity\u001b[39m\u001b[38;5;124m'\u001b[39m][\u001b[38;5;124m'\u001b[39m\u001b[38;5;124msummury\u001b[39m\u001b[38;5;124m'\u001b[39m], res[\u001b[38;5;124m'\u001b[39m\u001b[38;5;124mdistance\u001b[39m\u001b[38;5;124m'\u001b[39m]) \u001b[38;5;28;01mfor\u001b[39;00m res \u001b[38;5;129;01min\u001b[39;00m search_res[\u001b[38;5;241m0\u001b[39m]\n\u001b[1;32m      3\u001b[0m ]\n\u001b[1;32m      5\u001b[0m \u001b[38;5;28;01mfor\u001b[39;00m text, res \u001b[38;5;129;01min\u001b[39;00m retrieved_lines_with_distances:\n\u001b[1;32m      6\u001b[0m     \u001b[38;5;28mprint\u001b[39m(text, \u001b[38;5;124m'\u001b[39m\u001b[38;5;130;01m\\n\u001b[39;00m\u001b[38;5;124m'\u001b[39m)\n",
      "Cell \u001b[0;32mIn[122], line 2\u001b[0m, in \u001b[0;36m<listcomp>\u001b[0;34m(.0)\u001b[0m\n\u001b[1;32m      1\u001b[0m retrieved_lines_with_distances \u001b[38;5;241m=\u001b[39m [\n\u001b[0;32m----> 2\u001b[0m     (\u001b[43mres\u001b[49m\u001b[43m[\u001b[49m\u001b[38;5;124;43m'\u001b[39;49m\u001b[38;5;124;43mentity\u001b[39;49m\u001b[38;5;124;43m'\u001b[39;49m\u001b[43m]\u001b[49m\u001b[43m[\u001b[49m\u001b[38;5;124;43m'\u001b[39;49m\u001b[38;5;124;43msummury\u001b[39;49m\u001b[38;5;124;43m'\u001b[39;49m\u001b[43m]\u001b[49m, res[\u001b[38;5;124m'\u001b[39m\u001b[38;5;124mdistance\u001b[39m\u001b[38;5;124m'\u001b[39m]) \u001b[38;5;28;01mfor\u001b[39;00m res \u001b[38;5;129;01min\u001b[39;00m search_res[\u001b[38;5;241m0\u001b[39m]\n\u001b[1;32m      3\u001b[0m ]\n\u001b[1;32m      5\u001b[0m \u001b[38;5;28;01mfor\u001b[39;00m text, res \u001b[38;5;129;01min\u001b[39;00m retrieved_lines_with_distances:\n\u001b[1;32m      6\u001b[0m     \u001b[38;5;28mprint\u001b[39m(text, \u001b[38;5;124m'\u001b[39m\u001b[38;5;130;01m\\n\u001b[39;00m\u001b[38;5;124m'\u001b[39m)\n",
      "\u001b[0;31mKeyError\u001b[0m: 'summury'"
     ]
    }
   ],
   "source": [
    "retrieved_lines_with_distances = [\n",
    "    (res['entity']['summury'], res['distance']) for res in search_res[0]\n",
    "]\n",
    "\n",
    "for text, res in retrieved_lines_with_distances:\n",
    "    print(text, '\\n')\n",
    "    print('Близость =', res, '\\n\\n')"
   ]
  },
  {
   "cell_type": "markdown",
   "id": "e4607555-8ee8-4c72-a0c3-2287a6ff476d",
   "metadata": {},
   "source": [
    "### Генерация ответа LLM"
   ]
  },
  {
   "cell_type": "code",
   "execution_count": 70,
   "id": "80275d6f-eea5-4cd0-b89b-aa292db38f87",
   "metadata": {},
   "outputs": [
    {
     "name": "stdout",
     "output_type": "stream",
     "text": [
      "Кто является лицом, ответственным за официальное распространение информации о деятельности губернатора Ханты-Мансийского автономного округа - Югры, в соответствии с действующим законодательством Российской Федерации.\n"
     ]
    }
   ],
   "source": [
    "question_3 = \"\"\" \n",
    "    Ты разговариваешь только на русском языке. Ты юрист. Определи чего хочет клиент. Сформулируй его вопрос на юридическом языке.\n",
    "    Твой ответ должен содержать только сам переформулированный вопрос.\n",
    "    Вопрос клиента: {context}\n",
    "\"\"\"\n",
    "\n",
    "llm = connect_to_llama_by_api(LLAMA_API_TOKEN)\n",
    "\n",
    "quary = get_answer_by_api(quary, llm, system_prompt, question_3, max_tokens=4096, temperature=0.001)\n",
    "print(quary)"
   ]
  },
  {
   "cell_type": "code",
   "execution_count": 71,
   "id": "79865e8f-2173-4007-b64e-dd8917e17e57",
   "metadata": {},
   "outputs": [],
   "source": [
    "acts_for_answer = '\\n\\n'.join([res[\"entity\"][\"summury\"] for res in search_res[0]])"
   ]
  },
  {
   "cell_type": "code",
   "execution_count": 73,
   "id": "f34dc907-74bf-4bf9-b80a-0b770727e952",
   "metadata": {},
   "outputs": [
    {
     "name": "stdout",
     "output_type": "stream",
     "text": [
      "В соответствии с нормативными актами, указанными в контексте, лицом, ответственным за официальное распространение информации о деятельности губернатора Ханты-Мансийского автономного округа - Югры, является Пресс-секретарь Губернатора.\n",
      "\n",
      "Это следует из постановления Губернатора Ханты-Мансийского автономного округа-Югры от 17.12.2010 № 236, в котором добавлена должность \"Пресс-секретарь Губернатора\" в категории \"Помощники (советники)\" Группы \"Ведущие\".\n",
      "\n",
      "Таким образом, Пресс-секретарь Губернатора является лицом, ответственным за официальное распространение информации о деятельности губернатора Ханты-Мансийского автономного округа - Югры.\n",
      "\n",
      "Бонус: 1\n"
     ]
    }
   ],
   "source": [
    "system_prompt = \"\"\"\n",
    "    Ты разговариваешь только на русском языке. Ты - профессиональный юрист. За каждый правильный ответ ты будешь получать бонус.\n",
    "\"\"\"\n",
    "\n",
    "question = \"\"\" \n",
    "    Ты разговариваешь только на русском языке. Ответь на вопрос, опираясь на только нормативно-правовые акты из контектса.\n",
    "    {quary} \n",
    "    \n",
    "    Нормативные акты: {context}\n",
    "\"\"\"\n",
    "llm = connect_to_llama_by_api(LLAMA_API_TOKEN)\n",
    "\n",
    "\n",
    "print(get_answer_by_api(acts_for_answer, llm, system_prompt, question, max_tokens=4096, temperature=0.001, quary=quary))\n"
   ]
  },
  {
   "cell_type": "markdown",
   "id": "533c30ee-99cd-4a3c-8169-c82c7fcae71c",
   "metadata": {},
   "source": [
    "### Оценка метрик при помощи RAGAS"
   ]
  },
  {
   "cell_type": "code",
   "execution_count": 34,
   "id": "d6ed1428-c623-498e-a185-e8245732ea2e",
   "metadata": {},
   "outputs": [
    {
     "data": {
      "text/html": [
       "<div>\n",
       "<style scoped>\n",
       "    .dataframe tbody tr th:only-of-type {\n",
       "        vertical-align: middle;\n",
       "    }\n",
       "\n",
       "    .dataframe tbody tr th {\n",
       "        vertical-align: top;\n",
       "    }\n",
       "\n",
       "    .dataframe thead th {\n",
       "        text-align: right;\n",
       "    }\n",
       "</style>\n",
       "<table border=\"1\" class=\"dataframe\">\n",
       "  <thead>\n",
       "    <tr style=\"text-align: right;\">\n",
       "      <th></th>\n",
       "      <th>question</th>\n",
       "      <th>contexts</th>\n",
       "      <th>ground_truth</th>\n",
       "      <th>evolution_type</th>\n",
       "      <th>metadata</th>\n",
       "      <th>episode_done</th>\n",
       "    </tr>\n",
       "  </thead>\n",
       "  <tbody>\n",
       "    <tr>\n",
       "      <th>0</th>\n",
       "      <td>Каков объем экспорта услуг категории \"Поездки\"...</td>\n",
       "      <td>['Увеличение объема экспорта услуг категории \"...</td>\n",
       "      <td>Объем экспорта услуг категории \"Поездки\" в рег...</td>\n",
       "      <td>simple</td>\n",
       "      <td>[{'file_path': '/home/cias/projects/other/raga...</td>\n",
       "      <td>True</td>\n",
       "    </tr>\n",
       "    <tr>\n",
       "      <th>1</th>\n",
       "      <td>Каковы были основные мероприятия, реализуемые ...</td>\n",
       "      <td>['и | |развития | | |Ханты-Мансийского |исполн...</td>\n",
       "      <td>Основные мероприятия, реализуемые Правительств...</td>\n",
       "      <td>simple</td>\n",
       "      <td>[{'file_path': '/home/cias/projects/other/raga...</td>\n",
       "      <td>True</td>\n",
       "    </tr>\n",
       "    <tr>\n",
       "      <th>2</th>\n",
       "      <td>Каков размер финансирования из федерального бю...</td>\n",
       "      <td>['не относящиеся к районам Крайнего Севера и п...</td>\n",
       "      <td>Ответ на данный вопрос отсутствует в контексте.</td>\n",
       "      <td>simple</td>\n",
       "      <td>[{'file_path': '/home/cias/projects/other/raga...</td>\n",
       "      <td>True</td>\n",
       "    </tr>\n",
       "    <tr>\n",
       "      <th>3</th>\n",
       "      <td>Какой комплексный центр социального обслуживан...</td>\n",
       "      <td>['|2.2. |Центр социальной |240 к/мест |7580,0 ...</td>\n",
       "      <td>Комплексный центр социального обслуживания нас...</td>\n",
       "      <td>simple</td>\n",
       "      <td>[{'file_path': '/home/cias/projects/other/raga...</td>\n",
       "      <td>True</td>\n",
       "    </tr>\n",
       "    <tr>\n",
       "      <th>4</th>\n",
       "      <td>Какое значение имеет экологическое образование...</td>\n",
       "      <td>['(полного)общего образования и начального про...</td>\n",
       "      <td>Экологическое образование играет важную роль в...</td>\n",
       "      <td>simple</td>\n",
       "      <td>[{'file_path': '/home/cias/projects/other/raga...</td>\n",
       "      <td>True</td>\n",
       "    </tr>\n",
       "  </tbody>\n",
       "</table>\n",
       "</div>"
      ],
      "text/plain": [
       "                                            question  \\\n",
       "0  Каков объем экспорта услуг категории \"Поездки\"...   \n",
       "1  Каковы были основные мероприятия, реализуемые ...   \n",
       "2  Каков размер финансирования из федерального бю...   \n",
       "3  Какой комплексный центр социального обслуживан...   \n",
       "4  Какое значение имеет экологическое образование...   \n",
       "\n",
       "                                            contexts  \\\n",
       "0  ['Увеличение объема экспорта услуг категории \"...   \n",
       "1  ['и | |развития | | |Ханты-Мансийского |исполн...   \n",
       "2  ['не относящиеся к районам Крайнего Севера и п...   \n",
       "3  ['|2.2. |Центр социальной |240 к/мест |7580,0 ...   \n",
       "4  ['(полного)общего образования и начального про...   \n",
       "\n",
       "                                        ground_truth evolution_type  \\\n",
       "0  Объем экспорта услуг категории \"Поездки\" в рег...         simple   \n",
       "1  Основные мероприятия, реализуемые Правительств...         simple   \n",
       "2    Ответ на данный вопрос отсутствует в контексте.         simple   \n",
       "3  Комплексный центр социального обслуживания нас...         simple   \n",
       "4  Экологическое образование играет важную роль в...         simple   \n",
       "\n",
       "                                            metadata  episode_done  \n",
       "0  [{'file_path': '/home/cias/projects/other/raga...          True  \n",
       "1  [{'file_path': '/home/cias/projects/other/raga...          True  \n",
       "2  [{'file_path': '/home/cias/projects/other/raga...          True  \n",
       "3  [{'file_path': '/home/cias/projects/other/raga...          True  \n",
       "4  [{'file_path': '/home/cias/projects/other/raga...          True  "
      ]
     },
     "execution_count": 34,
     "metadata": {},
     "output_type": "execute_result"
    }
   ],
   "source": [
    "test_set_path = '../../../data/rag_npa/v2_ragas_npa_dataset_firstPart.xlsx'\n",
    "test_set_df = pd.read_excel(test_set_path)\n",
    "test_set_df.head()"
   ]
  },
  {
   "cell_type": "code",
   "execution_count": 35,
   "id": "9d5b1f0e-2fa9-46fa-be76-9d72d4cbecf0",
   "metadata": {},
   "outputs": [],
   "source": [
    "test_set_df['contexts'] = test_set_df['contexts'].apply(lambda contexts: contexts[2:-2].split(\"', '\"))"
   ]
  },
  {
   "cell_type": "code",
   "execution_count": 36,
   "id": "b16b7143-756c-42e5-97b2-cd078218376d",
   "metadata": {},
   "outputs": [
    {
     "data": {
      "text/plain": [
       "Dataset({\n",
       "    features: ['question', 'contexts', 'ground_truth', 'evolution_type', 'metadata', 'episode_done', 'answer'],\n",
       "    num_rows: 500\n",
       "})"
      ]
     },
     "execution_count": 36,
     "metadata": {},
     "output_type": "execute_result"
    }
   ],
   "source": [
    "test_set_df['answer'] = 'Я не могу ответить на ваш вопрос'  # TODO: generate answers for test set\n",
    "test_dataset = Dataset.from_pandas(test_set_df)\n",
    "test_dataset"
   ]
  },
  {
   "cell_type": "code",
   "execution_count": null,
   "id": "be4aacc3-2f67-4f4f-8795-5025d939d8a5",
   "metadata": {},
   "outputs": [],
   "source": [
    "metrics = [\n",
    "    context_precision,\n",
    "    faithfulness,\n",
    "    answer_сorrectness,\n",
    "    context_recall,\n",
    "]\n",
    "\n",
    "result = evaluate(\n",
    "    test_dataset,\n",
    "    metrics=metrics,\n",
    "    llm=model,\n",
    "    embeddings=emb_model\n",
    ")"
   ]
  }
 ],
 "metadata": {
  "kernelspec": {
   "display_name": "Python 3 (ipykernel)",
   "language": "python",
   "name": "python3"
  },
  "language_info": {
   "codemirror_mode": {
    "name": "ipython",
    "version": 3
   },
   "file_extension": ".py",
   "mimetype": "text/x-python",
   "name": "python",
   "nbconvert_exporter": "python",
   "pygments_lexer": "ipython3",
   "version": "3.10.11"
  }
 },
 "nbformat": 4,
 "nbformat_minor": 5
}
