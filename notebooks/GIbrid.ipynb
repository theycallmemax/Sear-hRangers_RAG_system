{
 "cells": [
  {
   "cell_type": "markdown",
   "id": "b36d3fac-b047-44ce-9ac9-f4e405806075",
   "metadata": {},
   "source": [
    "# Гибридный RAG"
   ]
  },
  {
   "cell_type": "markdown",
   "id": "fb6a3043-d2b6-4e3a-9d97-bad047860938",
   "metadata": {},
   "source": [
    "### Импорты"
   ]
  },
  {
   "cell_type": "code",
   "execution_count": 18,
   "id": "8bd63917-c9bf-43c8-b0fc-6f2d8db34355",
   "metadata": {},
   "outputs": [],
   "source": [
    "import os\n",
    "\n",
    "import torch.nn.functional as F\n",
    "from torch import Tensor\n",
    "from transformers import AutoTokenizer, AutoModel\n",
    "import torch\n",
    "\n",
    "from pymilvus import MilvusClient\n",
    "from pymilvus import (\n",
    "    Collection,\n",
    "    CollectionSchema,\n",
    "    DataType,\n",
    "    FieldSchema,\n",
    "    WeightedRanker,\n",
    "    connections,\n",
    ")\n",
    "\n",
    "import torch.nn.functional as F\n",
    "from torch import Tensor\n",
    "from transformers import AutoTokenizer, AutoModel\n",
    "import torch\n",
    "\n",
    "from llamaapi import LlamaAPI\n",
    "\n",
    "from tqdm import tqdm\n",
    "\n",
    "from langchain_milvus.retrievers import MilvusCollectionHybridSearchRetriever\n",
    "from langchain_community.embeddings import HuggingFaceBgeEmbeddings, HuggingFaceEmbeddings\n",
    "from langchain_milvus.utils.sparse import BM25SparseEmbedding\n",
    "\n",
    "from langchain_text_splitters import RecursiveCharacterTextSplitter\n",
    "\n",
    "import pickle as pkl\n",
    "\n",
    "token = '' # Ваш токе"
   ]
  },
  {
   "cell_type": "markdown",
   "id": "25b818c5-16d2-48c9-8382-bcc7ee969581",
   "metadata": {},
   "source": [
    "### Функции для запросов к llm"
   ]
  },
  {
   "cell_type": "code",
   "execution_count": 2,
   "id": "a0c1a24c-40c6-4e7f-baef-3facbd163e3c",
   "metadata": {},
   "outputs": [],
   "source": [
    "def conntect_to_llama_by_api(llama_token):\n",
    "    llama = LlamaAPI(llama_token)\n",
    "    return llama\n",
    "\n",
    "def get_answer_by_api(context, llm, system_prompt, question, max_tokens=4096, temperature=0.1, quary=''):\n",
    "    api_request_json = {\n",
    "        'model': 'llama3.1-70b',\n",
    "        'max_tokens': max_tokens,\n",
    "        'temperature': temperature,\n",
    "        \"messages\": [\n",
    "            {'role': 'system', 'content': system_prompt},\n",
    "            {'role': 'user', 'content': question.format(context=context, quary=quary)}\n",
    "        ]\n",
    "    }\n",
    "    response = llm.run(api_request_json)\n",
    "    return response.json()['choices'][0]['message']['content']"
   ]
  },
  {
   "cell_type": "markdown",
   "id": "73cc4b0f-d530-4920-96b6-79fff3e91126",
   "metadata": {
    "jp-MarkdownHeadingCollapsed": true
   },
   "source": [
    "### Предобработка данных"
   ]
  },
  {
   "cell_type": "code",
   "execution_count": 3,
   "id": "4fa4c5e3-c79c-43a7-adeb-9f78487f2145",
   "metadata": {},
   "outputs": [],
   "source": [
    "data_path = 'hmao_npa.txt'  # path to dataset\n",
    "\n",
    "with open(data_path, encoding='utf8') as file:\n",
    "    txt = file.read()\n",
    "\n",
    "list_docs = txt.split('\\n')\n",
    "list_docs = [doc for doc in list_docs if doc]"
   ]
  },
  {
   "cell_type": "code",
   "execution_count": 4,
   "id": "ca7ce268-a77d-4862-9488-e74772416375",
   "metadata": {},
   "outputs": [],
   "source": [
    "new_docs = []\n",
    "numbers = []\n",
    "for i in range(len(list_docs)):\n",
    "    list_docs[i] = list_docs[i].replace('¦', '|')\n",
    "    ids = list_docs[i].find('|')\n",
    "\n",
    "    if ids == -1:\n",
    "        new_docs.append(list_docs[i])\n",
    "    else:\n",
    "        new_docs.append(list_docs[i][:ids])\n",
    "        numbers.append(i)"
   ]
  },
  {
   "cell_type": "markdown",
   "id": "7c96eff7-5e14-44f0-8d44-b5466db69fd8",
   "metadata": {
    "jp-MarkdownHeadingCollapsed": true
   },
   "source": [
    "### Создание эмбеддингов"
   ]
  },
  {
   "cell_type": "markdown",
   "id": "58702173-9856-48e0-b885-6fba0185b392",
   "metadata": {
    "jp-MarkdownHeadingCollapsed": true
   },
   "source": [
    "#### multilingual-e5-base и BM25 "
   ]
  },
  {
   "cell_type": "code",
   "execution_count": 4,
   "id": "65eca499-7b0d-45df-b8ab-3973c75570b8",
   "metadata": {},
   "outputs": [
    {
     "name": "stderr",
     "output_type": "stream",
     "text": [
      "/home/jovyan/Lacmus/lacmus_env/lib/python3.11/site-packages/langchain_core/_api/deprecation.py:139: LangChainDeprecationWarning: The class `HuggingFaceEmbeddings` was deprecated in LangChain 0.2.2 and will be removed in 0.3.0. An updated version of the class exists in the langchain-huggingface package and should be used instead. To use it run `pip install -U langchain-huggingface` and import as `from langchain_huggingface import HuggingFaceEmbeddings`.\n",
      "  warn_deprecated(\n"
     ]
    }
   ],
   "source": [
    "model_name = 'intfloat/multilingual-e5-base'\n",
    "model_kwargs = {'device': 'cuda'}\n",
    "encode_kwargs = {'normalize_embeddings': True}\n",
    "embeddings = HuggingFaceEmbeddings(\n",
    "    model_name=model_name,\n",
    "    model_kwargs=model_kwargs,\n",
    "    encode_kwargs=encode_kwargs\n",
    ")\n",
    "\n",
    "sparse_embedding_func = BM25SparseEmbedding(corpus=new_docs)"
   ]
  },
  {
   "cell_type": "code",
   "execution_count": 8,
   "id": "96039ca4-77cc-4dc2-ade4-b036c23135e7",
   "metadata": {},
   "outputs": [
    {
     "name": "stderr",
     "output_type": "stream",
     "text": [
      "100%|██████████| 1856/1856 [05:38<00:00,  5.48it/s]\n"
     ]
    }
   ],
   "source": [
    "child_splitter = RecursiveCharacterTextSplitter(chunk_size=1000)\n",
    "\n",
    "entities = []\n",
    "i = 0\n",
    "for doc in tqdm(new_docs):\n",
    "    for j, text in enumerate(child_splitter.split_text(doc)):\n",
    "        entity = {\n",
    "            'doc_id': i,\n",
    "            'doc_part': j,\n",
    "            'dense_vector': embeddings.embed_documents([text])[0],\n",
    "            'sparse_vector': sparse_embedding_func.embed_documents([text])[0],\n",
    "            'text': text,\n",
    "        }\n",
    "        entities.append(entity)\n",
    "    i += 1\n",
    "    \n",
    "with open('embedings_e5.pkl', 'wb') as f:\n",
    "    pkl.dump(entities, f)"
   ]
  },
  {
   "cell_type": "markdown",
   "id": "50370bc2-b31b-420f-994b-57838a452e8b",
   "metadata": {
    "jp-MarkdownHeadingCollapsed": true
   },
   "source": [
    "#### BGE и BM25"
   ]
  },
  {
   "cell_type": "code",
   "execution_count": 50,
   "id": "74f3f467-755e-496e-9546-de373280aede",
   "metadata": {},
   "outputs": [],
   "source": [
    "model_name = \"BAAI/bge-m3\"\n",
    "model_kwargs = {\"device\": \"cuda\"}\n",
    "encode_kwargs = {\"normalize_embeddings\": True}\n",
    "\n",
    "embeddings = HuggingFaceBgeEmbeddings(\n",
    "    model_name=model_name,\n",
    "    model_kwargs=model_kwargs,\n",
    "    encode_kwargs=encode_kwargs,\n",
    "    query_instruction = \"search_query:\",\n",
    "    embed_instruction = \"search_document:\"\n",
    ")\n",
    "sparse_embedding_func = BM25SparseEmbedding(corpus=new_docs)"
   ]
  },
  {
   "cell_type": "code",
   "execution_count": 11,
   "id": "6e85cb72-ca4f-4b36-8e1e-b26e490a3359",
   "metadata": {},
   "outputs": [
    {
     "name": "stderr",
     "output_type": "stream",
     "text": [
      "100%|██████████| 1856/1856 [07:00<00:00,  4.42it/s]\n"
     ]
    }
   ],
   "source": [
    "child_splitter = RecursiveCharacterTextSplitter(chunk_size=10000)\n",
    "entities_2 = []\n",
    "i = 0\n",
    "for doc in tqdm(new_docs):\n",
    "    for j, text in enumerate(child_splitter.split_text(doc)):\n",
    "        entity = {\n",
    "            'doc_id': i,\n",
    "            'doc_part': j,\n",
    "            'dense_vector': embeddings.embed_documents([text])[0],\n",
    "            'sparse_vector': sparse_embedding_func.embed_documents([text])[0],\n",
    "            'text': text,\n",
    "        }\n",
    "        entities_2.append(entity)\n",
    "    i += 1\n",
    "with open('embedings_bge.pkl', 'wb') as f:\n",
    "    pkl.dump(entities_2, f)"
   ]
  },
  {
   "cell_type": "markdown",
   "id": "96cf1c06-236c-4605-9e45-ba19bda8704b",
   "metadata": {},
   "source": [
    "### Создание колекции "
   ]
  },
  {
   "cell_type": "markdown",
   "id": "47271183-1d1d-46be-935b-294dfd5ecd9d",
   "metadata": {},
   "source": [
    "Два варианта эмбедингов. Нужно выбрать один из них. И в зависимости отвыбора подгрузить эмбединги"
   ]
  },
  {
   "cell_type": "code",
   "execution_count": 5,
   "id": "c43c7e55-a4e1-4ef0-8308-580adf1da822",
   "metadata": {},
   "outputs": [
    {
     "name": "stderr",
     "output_type": "stream",
     "text": [
      "[nltk_data] Downloading package stopwords to\n",
      "[nltk_data]     C:\\Users\\mariya.kuznetsova\\AppData\\Roaming\\nltk_data..\n",
      "[nltk_data]     .\n",
      "[nltk_data]   Unzipping corpora\\stopwords.zip.\n"
     ]
    }
   ],
   "source": [
    "model_name = \"BAAI/bge-m3\"\n",
    "model_kwargs = {\"device\": \"cpu\"}\n",
    "encode_kwargs = {\"normalize_embeddings\": True}\n",
    "\n",
    "embeddings = HuggingFaceBgeEmbeddings(\n",
    "    model_name=model_name,\n",
    "    model_kwargs=model_kwargs,\n",
    "    encode_kwargs=encode_kwargs,\n",
    "    query_instruction = \"search_query:\",\n",
    "    embed_instruction = \"search_document:\"\n",
    ")\n",
    "sparse_embedding_func = BM25SparseEmbedding(corpus=new_docs)"
   ]
  },
  {
   "cell_type": "code",
   "execution_count": null,
   "id": "39ef7d5d-5aeb-4532-83f6-951101ebecec",
   "metadata": {},
   "outputs": [],
   "source": [
    "# model_name = 'intfloat/multilingual-e5-base'\n",
    "# model_kwargs = {'device': 'cuda'}\n",
    "# encode_kwargs = {'normalize_embeddings': True}\n",
    "# embeddings = HuggingFaceEmbeddings(\n",
    "#     model_name=model_name,\n",
    "#     model_kwargs=model_kwargs,\n",
    "#     encode_kwargs=encode_kwargs\n",
    "# )\n",
    "\n",
    "# sparse_embedding_func = BM25SparseEmbedding(corpus=new_docs)"
   ]
  },
  {
   "cell_type": "code",
   "execution_count": 6,
   "id": "43d576c4-9370-4552-aa1d-8b6e6a8dc124",
   "metadata": {},
   "outputs": [],
   "source": [
    "vector_dim = len(embeddings.embed_documents(['Пара пара пам'])[0])"
   ]
  },
  {
   "cell_type": "code",
   "execution_count": 7,
   "id": "a0c5aade-4b0f-4798-9f76-d519536bf653",
   "metadata": {},
   "outputs": [],
   "source": [
    "# connections.connect(uri=\"./milvus_demo.db\")\n",
    "connections.connect(uri=\"http://localhost:19530\")"
   ]
  },
  {
   "cell_type": "code",
   "execution_count": 37,
   "id": "82478f1f-240d-420e-a25a-904f556b80af",
   "metadata": {},
   "outputs": [],
   "source": [
    "connections.connect(uri=\"http://localhost:19530\")\n",
    "# connections.connect(uri=\"./milvus_demo.db\")\n",
    "collection_name = 'NPA_'\n",
    "\n",
    "fields = [\n",
    "    FieldSchema(\n",
    "        name='id',\n",
    "        dtype=DataType.VARCHAR,\n",
    "        is_primary=True,\n",
    "        auto_id=True,\n",
    "        max_length=100,\n",
    "    ),\n",
    "    FieldSchema(name='doc_id', dtype=DataType.INT32, max_length=100),\n",
    "    FieldSchema(name='doc_part', dtype=DataType.INT32, max_length=100),\n",
    "    FieldSchema(name=\"dense_vector\", dtype=DataType.FLOAT_VECTOR, dim=vector_dim),\n",
    "    FieldSchema(name=\"sparse_vector\", dtype=DataType.SPARSE_FLOAT_VECTOR),\n",
    "    FieldSchema(name=\"text\", dtype=DataType.VARCHAR, max_length=2000),\n",
    "]\n",
    "\n",
    "schema = CollectionSchema(fields=fields, enable_dynamic_field=False)\n",
    "collection = Collection(\n",
    "    name=collection_name, schema=schema, consistency_level=\"Strong\"\n",
    ")\n",
    "\n",
    "dense_index = {\"index_type\": \"FLAT\", \"metric_type\": \"IP\"}\n",
    "collection.create_index(\"dense_vector\", dense_index)\n",
    "sparse_index = {\"index_type\": \"SPARSE_INVERTED_INDEX\", \"metric_type\": \"IP\"}\n",
    "collection.create_index(\"sparse_vector\", sparse_index)\n",
    "collection.flush()"
   ]
  },
  {
   "cell_type": "code",
   "execution_count": 38,
   "id": "71d7098f-2c01-46f4-b7fc-cedf4ab7afa2",
   "metadata": {},
   "outputs": [],
   "source": [
    "with open('embedings_bge.pkl', 'rb') as f:\n",
    "    entities = pkl.load(f)\n",
    "\n",
    "# with open('embedings_e5.pkl', 'rb') as f:\n",
    "#     entities = pkl.load(f)\n",
    "\n",
    "collection.insert(entities[:8000])\n",
    "collection.load()\n",
    "collection.insert(entities[8000:16000])\n",
    "collection.load()\n",
    "collection.insert(entities[16000:])\n",
    "collection.load()"
   ]
  },
  {
   "cell_type": "markdown",
   "id": "ce39aeb4-ba6c-476d-ad96-d6e9b7942a0f",
   "metadata": {},
   "source": [
    "### Создание ретривера"
   ]
  },
  {
   "cell_type": "markdown",
   "id": "53c7c021-54aa-4c72-aa69-ae7e6e3160b1",
   "metadata": {},
   "source": [
    "Вот тут нужно с весами поэкспериментировать. Кстати веса [0, 1] и [1, 0] это по сути будет поиск одним ретривером."
   ]
  },
  {
   "cell_type": "code",
   "execution_count": 39,
   "id": "b5337223-91dc-4d2d-b588-b4339f250cb3",
   "metadata": {},
   "outputs": [],
   "source": [
    "sparse_search_params = {\"metric_type\": \"IP\"}\n",
    "dense_search_params = {\"metric_type\": \"IP\", \"params\": {}}\n",
    "retriever = MilvusCollectionHybridSearchRetriever(\n",
    "    collection=collection,\n",
    "    rerank=WeightedRanker(0.5, 0.5),\n",
    "    anns_fields=['dense_vector', 'sparse_vector'],\n",
    "    field_embeddings=[embeddings, sparse_embedding_func],\n",
    "    field_search_params=[dense_search_params, sparse_search_params],\n",
    "    top_k=5,\n",
    "    text_field='text',\n",
    ")"
   ]
  },
  {
   "cell_type": "markdown",
   "id": "8e3da691-ffe3-4765-8bbc-87ca6fa4521e",
   "metadata": {},
   "source": [
    "### Переформулировка запроса"
   ]
  },
  {
   "cell_type": "code",
   "execution_count": 65,
   "id": "515e70d6-2364-445d-82b7-490ef498d1a8",
   "metadata": {},
   "outputs": [
    {
     "data": {
      "text/plain": [
       "'В каких случаях и по каким основаниям возможно изменение постановления о Департаменте внутренней политики в соответствии с действующим законодательством?'"
      ]
     },
     "execution_count": 65,
     "metadata": {},
     "output_type": "execute_result"
    }
   ],
   "source": [
    "question_3 = \"\"\" \n",
    "    Ты разговариваешь только на русском языке. Ты юрист. Определи чего хочет клиент. Сформулируй его вопрос на юридическом языке.\n",
    "    Твой ответ должен содержать только сам переформулированный вопрос.\n",
    "    Вопрос клиента: {context}\n",
    "\"\"\"\n",
    "\n",
    "question_2 = \"\"\" \n",
    "    Ты разговариваешь только на русском языке. Ответь на вопрос, опираясь на только нормативно-правовые акты из контектса.\n",
    "    {quary} \n",
    "    \n",
    "    Нормативные акты: {context}\n",
    "\"\"\"\n",
    "\n",
    "system_prompt = \"\"\"\n",
    "    Ты разговариваешь только на русском языке. Ты - профессиональный юрист. За каждый правильный ответ ты будешь получать по 100$.\n",
    "\"\"\"\n",
    "\n",
    "quary = 'Зачем менять постановление о Департаменте внутренней политики?'\n",
    "\n",
    "llm = conntect_to_llama_by_api(token)\n",
    "\n",
    "quary = get_answer_by_api(quary, llm, system_prompt, question_3, max_tokens=4096, temperature=0.5)\n",
    "quary"
   ]
  },
  {
   "cell_type": "markdown",
   "id": "b16ec81f-b2a0-4753-8bd4-3deb504f928c",
   "metadata": {},
   "source": [
    "Ищем нужные документв и передаём llm"
   ]
  },
  {
   "cell_type": "code",
   "execution_count": 66,
   "id": "63e08f5b-3ee0-404a-9c22-6e72c0425c01",
   "metadata": {},
   "outputs": [],
   "source": [
    "docs = retriever.invoke(quary)\n",
    "context = '\\n'.join([doc.page_content for doc in docs])"
   ]
  },
  {
   "cell_type": "code",
   "execution_count": 67,
   "id": "40bd6525-c457-47ff-ae4e-bab08900a5bf",
   "metadata": {},
   "outputs": [
    {
     "data": {
      "text/plain": [
       "'Изменение постановления о Департаменте внутренней политики в соответствии с действующим законодательством возможно в следующих случаях:\\n\\n1. Внесение изменений в штатное расписание Департамента внутренней политики в соответствии с трудовым законодательством Российской Федерации и законодательством о государственной гражданской службе (пункт 7.1).\\n2. Перераспределение функций и полномочий, возглавляемых органов государственной власти Ханты-Мансийского автономного округа - Югры (пункт 7.2).\\n3. Внесение изменений в правовые акты Департамента внутренней политики в соответствии с постановлением Правительства Ханты-Мансийского автономного округа - Югры (пункт 8).\\n4. Внесение изменений в постановление о Департаменте внутренней политики в соответствии с решениями Общественного совета при Департаменте внутренней политики Ханты-Мансийского автономного округа - Югры (протокол заседания от 9 декабря 2020 года N 17).\\n5. Внесение изменений в постановление о Департаменте внутренней политики в соответствии с национальными целями развития и модельной государственной программой Ханты-Мансийского автономного округа - Югры (постановление Правительства Ханты-Мансийского автономного округа - Югры от 27 июля 2018 года N 226-п).\\n\\nОснования для изменения постановления о Департаменте внутренней политики включают:\\n\\n* Изменения в законодательстве Российской Федерации и Ханты-Мансийского автономного округа - Югры;\\n* Перераспределение функций и полномочий органов государственной власти;\\n* Решения Общественного совета при Департаменте внутренней политики Ханты-Мансийского автономного округа - Югры;\\n* Национальные цели развития и модельная государственная программа Ханты-Мансийского автономного округа - Югры.\\n\\nСтоимость ответа: 100$.'"
      ]
     },
     "execution_count": 67,
     "metadata": {},
     "output_type": "execute_result"
    }
   ],
   "source": [
    "get_answer_by_api(context, llm, system_prompt, question_2, max_tokens=4096, temperature=0.5, quary=quary)"
   ]
  },
  {
   "cell_type": "code",
   "execution_count": 70,
   "id": "5a491008-6308-4afb-aa23-0c05d93a0986",
   "metadata": {},
   "outputs": [
    {
     "data": {
      "text/plain": [
       "'Изменение постановления о Департаменте внутренней политики возможно в соответствии с действующим законодательством в следующих случаях и по следующим основаниям:\\n\\n1. В соответствии с пунктом 4 статьи 17 Федерального закона от 6 октября 1999 года N 184-ФЗ \"Об общих принципах организации законодательных (представительных) и исполнительных органов государственной власти субъектов Российской Федерации\", подпунктом 13 пункта 1 и пунктом 4 статьи 34 Устава (Основного закона) Ханты-Мансийского автономного округа - Югры, постановление о Департаменте внутренней политики может быть изменено по решению Губернатора Ханты-Мансийского автономного округа - Югры.\\n\\n2. В соответствии с постановлением Правительства Ханты-Мансийского автономного округа - Югры от 27 июля 2018 года N 226-п \"О модельной государственной программе Ханты-Мансийского автономного округа - Югры, порядке принятия решения о разработке государственных программ Ханты-Мансийского автономного округа - Югры, их формирования, утверждения и реализации и плане мероприятий по обеспечению разработки, утверждению государственных программ Ханты-Мансийского автономного округа - Югры в соответствии с национальными целями развития\", постановление о Департаменте внутренней политики может быть изменено по решению Правительства Ханты-Мансийского автономного округа - Югры.\\n\\n3. В соответствии с постановлением Губернатора Ханты-Мансийского автономного округа - Югры от 02.06.2011 № 90, постановление о Департаменте внутренней политики может быть изменено в целях совершенствования деятельности Департамента внутренней политики Ханты-Мансийского автономного округа - Югры.\\n\\n4. В соответствии с постановлением Правительства Ханты-Мансийского автономного округа - Югры от 08.10.2021 № 423-п, постановление о Департаменте внутренней политики может быть изменено в целях внесения изменений в государственную программу Ханты-Мансийского автономного округа - Югры \"Профилактика правонарушений и обеспечение отдельных прав граждан\".\\n\\nОснованиями для изменения постановления о Департаменте внутренней политики могут быть:\\n\\n* изменение законодательства Российской Федерации или Ханты-Мансийского автономного округа - Югры;\\n* изменение структуры или функций Департамента внутренней политики;\\n* необходимость совершенствования деятельности Департамента внутренней политики;\\n* необходимость внесения изменений в государственные программы Ханты-Мансийского автономного округа - Югры.\\n\\nВ любом случае, изменение постановления о Департаменте внутренней политики должно быть обосновано и соответствовать действующему законодательству.'"
      ]
     },
     "execution_count": 70,
     "metadata": {},
     "output_type": "execute_result"
    }
   ],
   "source": [
    "get_answer_by_api(context, llm, system_prompt, question_2, max_tokens=4096, temperature=0.5, quary=quary)"
   ]
  },
  {
   "cell_type": "markdown",
   "id": "ae531122-ff92-4222-827b-7134d245e485",
   "metadata": {},
   "source": [
    "Это если нужно колекцию дропнуть"
   ]
  },
  {
   "cell_type": "code",
   "execution_count": 36,
   "id": "28cc6383-c109-4e9c-b452-5eb8f0314c30",
   "metadata": {},
   "outputs": [],
   "source": [
    "collection.drop()"
   ]
  },
  {
   "cell_type": "markdown",
   "id": "8017888c-bdd7-4c2a-aa59-3d386a6c5054",
   "metadata": {},
   "source": [
    "### Подтянем соседние кусочки и начало"
   ]
  },
  {
   "cell_type": "code",
   "execution_count": 68,
   "id": "c022d297-003b-4141-94f3-43a548cf6274",
   "metadata": {},
   "outputs": [],
   "source": [
    "def neighbors(collection, doc_id, part_id):\n",
    "\n",
    "    # Поиск всех частей документа по doc_id\n",
    "    # Здесь предполагается, что поле order указывает на порядок частей документа\n",
    "    parts = collection.query(expr=f\"doc_id == {doc_id}\", output_fields=[\"doc_part\", \"text\"])\n",
    "\n",
    "    # Сортируем части документа по порядку\n",
    "    sorted_parts = sorted(parts, key=lambda x: x[\"doc_part\"])\n",
    "\n",
    "    document_start = sorted_parts[0][\"text\"]\n",
    "        \n",
    "    # Извлекаем предыдущую и следующую части (если они существуют)\n",
    "    previous_part = sorted_parts[part_id - 1][\"text\"] if part_id > 0 else None\n",
    "    current_part = sorted_parts[part_id][\"text\"]\n",
    "    next_part = sorted_parts[part_id + 1][\"text\"] if part_id < len(sorted_parts) - 1 else None\n",
    "    \n",
    "    # Возвращаем список частей\n",
    "    return [document_start, previous_part, current_part, next_part]"
   ]
  },
  {
   "cell_type": "markdown",
   "id": "829318ee-0dcd-4417-8493-9703fa6e34cf",
   "metadata": {},
   "source": [
    "Второй вариант как создать контекст с дополнительными куосчками"
   ]
  },
  {
   "cell_type": "code",
   "execution_count": 69,
   "id": "d5855609-f8d3-4ce8-9c70-012544c1afe4",
   "metadata": {},
   "outputs": [],
   "source": [
    "context = ''\n",
    "for doc in docs:\n",
    "    other = neighbors(collection, doc.metadata['doc_id'], doc.metadata['doc_part'])\n",
    "    other = [x for x in other if x is not None]\n",
    "    other = ' '.join(other)\n",
    "    context += other + '\\n\\n'"
   ]
  },
  {
   "cell_type": "code",
   "execution_count": 58,
   "id": "c090f7dc-2b26-49de-8add-20128d7f6bb7",
   "metadata": {},
   "outputs": [
    {
     "name": "stdout",
     "output_type": "stream",
     "text": [
      "[{'doc_part': 0, 'text': 'ЗАКОН  ХАНТЫ-МАНСИЙСКОГО АВТОНОМНОГО ОКРУГА-ЮГРЫ от 20.07.2007 № 108-оз.  О ВНЕСЕНИИ ИЗМЕНЕНИЙ В ЗАКОН ХАНТЫ-МАНСИЙСКОГО АВТОНОМНОГО ОКРУГА - ЮГРЫ \"О НОРМАТИВНЫХ ПРАВОВЫХ АКТАХ ХАНТЫ-МАНСИЙСКОГО АВТОНОМНОГО ОКРУГА - ЮГРЫ\" ЗАКОН ХАНТЫ-МАНСИЙСКОГО АВТОНОМНОГО ОКРУГА - ЮГРЫ О ВНЕСЕНИИ ИЗМЕНЕНИЙ В ЗАКОН ХАНТЫ-МАНСИЙСКОГО АВТОНОМНОГО ОКРУГА - ЮГРЫ \"О НОРМАТИВНЫХ ПРАВОВЫХ АКТАХ ХАНТЫ-МАНСИЙСКОГО АВТОНОМНОГО ОКРУГА - ЮГРЫ\" Принят Думой Ханты-Мансийского автономного округа - Югры 12 июля 2007 года Статья 1. Внести в Закон Ханты-Мансийского автономного округа - Югры от 25 февраля 2003 года N 14-оз \"О нормативных правовых актах Ханты-Мансийского автономного округа - Югры\" (с изменениями, внесенными Законами Ханты-Мансийского автономного округа - Югры от 31 декабря 2004 года N 105-оз, 5 июля 2005 года N 55-оз, 26 февраля 2007 года N 7-оз) (Собрание законодательства Ханты-Мансийского автономного округа, 2003, N 2, ст. 103; Собрание законодательства Ханты-Мансийского автономного округа - Югры,', 'id': '452481797777807237'}, {'doc_part': 1, 'text': 'года N 55-оз, 26 февраля 2007 года N 7-оз) (Собрание законодательства Ханты-Мансийского автономного округа, 2003, N 2, ст. 103; Собрание законодательства Ханты-Мансийского автономного округа - Югры, 2004, N 12 (ч. I), ст. 1807; 2005, N 7 (ч. I), ст. 732; 2007, N 2, ст. 77) следующие изменения: 1. Статью 3 дополнить абзацем следующего содержания: \"исполнительные органы государственной власти Ханты-Мансийского автономного округа - Югры.\". 2. Статью 5 дополнить абзацем следующего содержания: \"приказы исполнительных органов государственной власти Ханты-Мансийского автономного округа - Югры.\". 3. Статью 6 дополнить абзацем следующего содержания: \"Исполнительные органы государственной власти автономного округа по организационным и оперативным вопросам могут издавать распоряжения и иные правовые акты ненормативного характера.\". 4. Дополнить Закон статьей 13.1 следующего содержания: \"Статья 13.1. Приказы исполнительных органов государственной власти Ханты-Мансийского автономного округа - Югры', 'id': '452481797777807238'}, {'doc_part': 2, 'text': 'акты ненормативного характера.\". 4. Дополнить Закон статьей 13.1 следующего содержания: \"Статья 13.1. Приказы исполнительных органов государственной власти Ханты-Мансийского автономного округа - Югры 1. Нормативные правовые акты автономного округа в форме приказов принимают исполнительные органы государственной власти автономного округа, наделенные актами Губернатора и (или) Правительства автономного округа функциями по принятию нормативных правовых актов. Исполнительные органы государственной власти автономного округа, осуществляющие иные функции, принимают нормативные правовые акты в исключительных случаях, устанавливаемых в актах Губернатора автономного округа, Правительства автономного округа. 2. Исполнительные органы государственной власти автономного округа, осуществляющие функции по принятию нормативных правовых актов, на основании и во исполнение Конституции Российской Федерации, федеральных законов, указов Президента Российской Федерации, постановлений Правительства', 'id': '452481797777807239'}, {'doc_part': 3, 'text': 'функции по принятию нормативных правовых актов, на основании и во исполнение Конституции Российской Федерации, федеральных законов, указов Президента Российской Федерации, постановлений Правительства Российской Федерации, Устава (Основного закона) автономного округа и законов автономного округа, постановлений Губернатора автономного округа и Правительства автономного округа самостоятельно принимают нормативные правовые акты в установленной сфере деятельности, за исключением вопросов, правовое регулирование которых в соответствии с Конституцией Российской Федерации, федеральными законами, нормативными правовыми актами Президента Российской Федерации и Правительства Российской Федерации, Уставом (Основным законом) и законами автономного округа, актами Губернатора автономного округа и Правительства автономного округа осуществляется исключительно законами автономного округа, актами Губернатора автономного округа и Правительства автономного округа. 3. Приказы исполнительных органов', 'id': '452481797777807240'}, {'doc_part': 4, 'text': 'Правительства автономного округа осуществляется исключительно законами автономного округа, актами Губернатора автономного округа и Правительства автономного округа. 3. Приказы исполнительных органов государственной власти автономного округа подлежат государственной регистрации в порядке, установленном Правительством автономного округа.\". 5. В статье 14: 1) пункт 2 после слов \"Правительства автономного округа\" дополнить словами \", исполнительных органов государственной власти автономного округа\"; 2) пункт 4 после слов \"Правительства автономного округа\" дополнить словами \", приказам исполнительных органов государственной власти автономного округа\"; 3) дополнить пунктом 5 следующего содержания: \"5. Постановления Правительства автономного округа имеют более высокую юридическую силу по отношению к приказам исполнительных органов государственной власти автономного округа. В случае противоречия между ними действуют постановления Правительства автономного округа. Приказы исполнительных', 'id': '452481797777807241'}, {'doc_part': 5, 'text': 'к приказам исполнительных органов государственной власти автономного округа. В случае противоречия между ними действуют постановления Правительства автономного округа. Приказы исполнительных органов государственной власти автономного округа могут быть отменены или приостановлены постановлениями Правительства автономного округа.\". 6. Пункт 3 статьи 59 после слов \"Председателя Правительства автономного округа\" дополнить словами \", руководителя исполнительного органа государственной власти автономного округа\". Статья 2. Настоящий Закон вступает в силу по истечении десяти дней со дня его официального опубликования. Губернатор Ханты-Мансийского автономного округа - Югры А.В.ФИЛИПЕНКО г. Ханты-Мансийск 20 июля 2007 года N 108-оз', 'id': '452481797777807242'}]\n"
     ]
    },
    {
     "data": {
      "text/plain": [
       "['ЗАКОН  ХАНТЫ-МАНСИЙСКОГО АВТОНОМНОГО ОКРУГА-ЮГРЫ от 20.07.2007 № 108-оз.  О ВНЕСЕНИИ ИЗМЕНЕНИЙ В ЗАКОН ХАНТЫ-МАНСИЙСКОГО АВТОНОМНОГО ОКРУГА - ЮГРЫ \"О НОРМАТИВНЫХ ПРАВОВЫХ АКТАХ ХАНТЫ-МАНСИЙСКОГО АВТОНОМНОГО ОКРУГА - ЮГРЫ\" ЗАКОН ХАНТЫ-МАНСИЙСКОГО АВТОНОМНОГО ОКРУГА - ЮГРЫ О ВНЕСЕНИИ ИЗМЕНЕНИЙ В ЗАКОН ХАНТЫ-МАНСИЙСКОГО АВТОНОМНОГО ОКРУГА - ЮГРЫ \"О НОРМАТИВНЫХ ПРАВОВЫХ АКТАХ ХАНТЫ-МАНСИЙСКОГО АВТОНОМНОГО ОКРУГА - ЮГРЫ\" Принят Думой Ханты-Мансийского автономного округа - Югры 12 июля 2007 года Статья 1. Внести в Закон Ханты-Мансийского автономного округа - Югры от 25 февраля 2003 года N 14-оз \"О нормативных правовых актах Ханты-Мансийского автономного округа - Югры\" (с изменениями, внесенными Законами Ханты-Мансийского автономного округа - Югры от 31 декабря 2004 года N 105-оз, 5 июля 2005 года N 55-оз, 26 февраля 2007 года N 7-оз) (Собрание законодательства Ханты-Мансийского автономного округа, 2003, N 2, ст. 103; Собрание законодательства Ханты-Мансийского автономного округа - Югры,',\n",
       " 'года N 55-оз, 26 февраля 2007 года N 7-оз) (Собрание законодательства Ханты-Мансийского автономного округа, 2003, N 2, ст. 103; Собрание законодательства Ханты-Мансийского автономного округа - Югры, 2004, N 12 (ч. I), ст. 1807; 2005, N 7 (ч. I), ст. 732; 2007, N 2, ст. 77) следующие изменения: 1. Статью 3 дополнить абзацем следующего содержания: \"исполнительные органы государственной власти Ханты-Мансийского автономного округа - Югры.\". 2. Статью 5 дополнить абзацем следующего содержания: \"приказы исполнительных органов государственной власти Ханты-Мансийского автономного округа - Югры.\". 3. Статью 6 дополнить абзацем следующего содержания: \"Исполнительные органы государственной власти автономного округа по организационным и оперативным вопросам могут издавать распоряжения и иные правовые акты ненормативного характера.\". 4. Дополнить Закон статьей 13.1 следующего содержания: \"Статья 13.1. Приказы исполнительных органов государственной власти Ханты-Мансийского автономного округа - Югры',\n",
       " 'акты ненормативного характера.\". 4. Дополнить Закон статьей 13.1 следующего содержания: \"Статья 13.1. Приказы исполнительных органов государственной власти Ханты-Мансийского автономного округа - Югры 1. Нормативные правовые акты автономного округа в форме приказов принимают исполнительные органы государственной власти автономного округа, наделенные актами Губернатора и (или) Правительства автономного округа функциями по принятию нормативных правовых актов. Исполнительные органы государственной власти автономного округа, осуществляющие иные функции, принимают нормативные правовые акты в исключительных случаях, устанавливаемых в актах Губернатора автономного округа, Правительства автономного округа. 2. Исполнительные органы государственной власти автономного округа, осуществляющие функции по принятию нормативных правовых актов, на основании и во исполнение Конституции Российской Федерации, федеральных законов, указов Президента Российской Федерации, постановлений Правительства',\n",
       " 'функции по принятию нормативных правовых актов, на основании и во исполнение Конституции Российской Федерации, федеральных законов, указов Президента Российской Федерации, постановлений Правительства Российской Федерации, Устава (Основного закона) автономного округа и законов автономного округа, постановлений Губернатора автономного округа и Правительства автономного округа самостоятельно принимают нормативные правовые акты в установленной сфере деятельности, за исключением вопросов, правовое регулирование которых в соответствии с Конституцией Российской Федерации, федеральными законами, нормативными правовыми актами Президента Российской Федерации и Правительства Российской Федерации, Уставом (Основным законом) и законами автономного округа, актами Губернатора автономного округа и Правительства автономного округа осуществляется исключительно законами автономного округа, актами Губернатора автономного округа и Правительства автономного округа. 3. Приказы исполнительных органов']"
      ]
     },
     "execution_count": 58,
     "metadata": {},
     "output_type": "execute_result"
    }
   ],
   "source": [
    "neighbors(collection, docs[0].metadata['doc_id'], docs[0].metadata['doc_part'])"
   ]
  },
  {
   "cell_type": "code",
   "execution_count": null,
   "id": "671ffe18-0c03-48b3-8b25-a0d8aa1e7054",
   "metadata": {},
   "outputs": [],
   "source": []
  }
 ],
 "metadata": {
  "kernelspec": {
   "display_name": "Python 3 (ipykernel)",
   "language": "python",
   "name": "python3"
  },
  "language_info": {
   "codemirror_mode": {
    "name": "ipython",
    "version": 3
   },
   "file_extension": ".py",
   "mimetype": "text/x-python",
   "name": "python",
   "nbconvert_exporter": "python",
   "pygments_lexer": "ipython3",
   "version": "3.10.11"
  }
 },
 "nbformat": 4,
 "nbformat_minor": 5
}
