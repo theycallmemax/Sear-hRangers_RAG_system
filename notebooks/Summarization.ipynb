{
 "cells": [
  {
   "cell_type": "markdown",
   "id": "0a6a2839-6cf3-4bce-9e17-ff4f55f21988",
   "metadata": {},
   "source": [
    "# <center> RAG для нормативно правовых актов </center>"
   ]
  },
  {
   "cell_type": "code",
   "execution_count": 1,
   "id": "5f61407f-9b11-44dc-8159-4e0989cf7f58",
   "metadata": {},
   "outputs": [],
   "source": [
    "import os\n",
    "\n",
    "import torch.nn.functional as F\n",
    "from torch import Tensor\n",
    "from transformers import AutoTokenizer, AutoModel\n",
    "import torch\n",
    "\n",
    "from pymilvus import MilvusClient\n",
    "\n",
    "from langchain_openai import ChatOpenAI\n",
    "from langchain.chains import create_retrieval_chain\n",
    "from langchain.chains.combine_documents import create_stuff_documents_chain\n",
    "from langchain_core.prompts import ChatPromptTemplate\n",
    "from langchain_community.llms import HuggingFaceEndpoint\n",
    "\n",
    "from llamaapi import LlamaAPI\n",
    "\n",
    "from tqdm import tqdm\n",
    "\n",
    "import json\n",
    "\n",
    "import pickle\n",
    "\n",
    "# os.environ['HUGGINGFACEHUB_API_TOKEN'] = ''\n",
    "token = ''"
   ]
  },
  {
   "cell_type": "markdown",
   "id": "75da4876-6931-4a24-b391-a568399115dd",
   "metadata": {},
   "source": [
    "### Вспомогательные данные"
   ]
  },
  {
   "cell_type": "code",
   "execution_count": 4,
   "id": "e6f6528c-feae-4753-b43f-1287ec1561e7",
   "metadata": {},
   "outputs": [],
   "source": [
    "system_prompt = \"\"\"\n",
    "    Ты разговариваешь только на русском языке. Ты - профессиональный юрист. За каждый правильный ответ ты будешь получать бонус.\n",
    "\"\"\"\n",
    "\n",
    "question = \"\"\" \n",
    "    Ты разговариваешь только на русском языке. Ты специалист по юристпруденции. \n",
    "    Тебе на вход приходит нормативно правовой акт. \n",
    "    Суммаризируй его, найди основную суть документа. \n",
    "    Твой ответ должен быть кратким, в ответе просто напиши саммари без лишних вводных фраз. \n",
    "    Особое внимание удели числам, процентам, датам и внесенным изменениям.\n",
    "    Нормативно-правовой акт:\n",
    "    {context}\n",
    "\"\"\"\n",
    "\n",
    "question_json = \"\"\" \n",
    "    Ты разговариваешь только на русском языке. Ты специалист по юристпруденции. \n",
    "    Тебе на вход приходит нормативно правовой акт. \n",
    "    На выходе ты должен отдать только JSON в следующем формате:\n",
    "    \n",
    "    {{'Название акта': 'Здесь помести только название нормативно правового акта', \n",
    "    'Регистрационный номер': ' Здесь помести тольео регистрационный номер НПА',\n",
    "    'Дата принятия': 'Здесь Дата принятия (когда нормативный акт был официально принят или издан)',  \n",
    "    'Дата вступления': 'Дата вступления в силу (по общему правилу через 10 календарных дней после официальной публикации, если в самом акте не сказано иное; есть исключения для налоговых и бюджетных нпа - они со следующего налогового периода или периода бюджетного планирования вступают в силу)',\n",
    "    'Дата опубликования': 'Дата, когда НПА был опубликован в официальном источнике, чтобы  отследить его юридическую силу',\n",
    "    'Орган': ' Здесь орган, издавший акт',\n",
    "    'Тип документа': 'Здесь тип документа (например закон, указ, постановление, приказ)',\n",
    "    'Сфера регулирования': 'Здесь Сфера регулирования: (сфера общественных отношений, на которую распространяется действие НПА, например, трудовые отношения, налогообложение, бюджетная политика)',\n",
    "    'Ключнвые слова': 'Перечисли слова по которым можно найти этот документ через запятую штук 30'\n",
    "    }}\n",
    "\n",
    "    Ны выходе должен быть только json размера 7.\n",
    "    Ответ должен быть обязатьльно только в формате json.\n",
    "    Нормативно-правовой акт:\n",
    "    {context}\n",
    "\"\"\""
   ]
  },
  {
   "cell_type": "code",
   "execution_count": 5,
   "id": "17a704e9-0509-42a6-8481-0d2d35c96b4b",
   "metadata": {},
   "outputs": [],
   "source": [
    "def conntect_to_llama_by_api(llama_token):\n",
    "    llama = LlamaAPI(llama_token)\n",
    "    return llama\n",
    "\n",
    "def get_answer_by_api(context, llm, system_prompt, question, max_tokens=4096, temperature=0.1, quary=''):\n",
    "    api_request_json = {\n",
    "        'model': 'llama3.1-70b',\n",
    "        'max_tokens': max_tokens,\n",
    "        'temperature': temperature,\n",
    "        \"messages\": [\n",
    "            {'role': 'system', 'content': system_prompt},\n",
    "            {'role': 'user', 'content': question.format(context=context, quary=quary)}\n",
    "        ]\n",
    "    }\n",
    "    response = llm.run(api_request_json)\n",
    "    return response.json()['choices'][0]['message']['content']"
   ]
  },
  {
   "cell_type": "code",
   "execution_count": 6,
   "id": "9c21647f-7426-4de4-b950-8ab910970d1e",
   "metadata": {},
   "outputs": [],
   "source": [
    "def make_summary(docs, llm, system_prompt, question, get_answer_func=get_answer_by_api):\n",
    "    summarys = []\n",
    "    for doc in tqdm(docs):\n",
    "        summarys.append(get_answer_func(doc, llm, system_prompt, question))\n",
    "    return summarys"
   ]
  },
  {
   "cell_type": "markdown",
   "id": "c2bf9196-d076-4ec8-b29a-1b1b0dbb9dd1",
   "metadata": {},
   "source": [
    "### Подготовка данных для хранилища"
   ]
  },
  {
   "cell_type": "code",
   "execution_count": 7,
   "id": "68a37de7-1e33-4f05-92e7-c5bab4ee6527",
   "metadata": {},
   "outputs": [],
   "source": [
    "data_path = 'hmao_npa.txt'  # path to dataset\n",
    "\n",
    "with open(data_path, encoding='utf8') as file:\n",
    "    txt = file.read()\n",
    "\n",
    "list_docs = txt.split('\\n')\n",
    "list_docs = [doc for doc in list_docs if doc]"
   ]
  },
  {
   "cell_type": "code",
   "execution_count": 8,
   "id": "41c9c11e-c62f-41e2-ab86-2ee301bb4980",
   "metadata": {},
   "outputs": [],
   "source": [
    "new_docs = []\n",
    "numbers = []\n",
    "for i in range(len(list_docs)):\n",
    "    list_docs[i] = list_docs[i].replace('¦', '|')\n",
    "    ids = list_docs[i].find('|')\n",
    "\n",
    "    if ids == -1:\n",
    "        new_docs.append(list_docs[i])\n",
    "    else:\n",
    "        new_docs.append(list_docs[i][:ids])\n",
    "        numbers.append(i)"
   ]
  },
  {
   "cell_type": "markdown",
   "id": "d43f4168-b7b1-4e15-9d43-ddbf70b892d3",
   "metadata": {},
   "source": [
    "### Попытка собрать метаданные"
   ]
  },
  {
   "cell_type": "code",
   "execution_count": 10,
   "id": "aec7347b-9ab4-4800-974d-e692c2c564da",
   "metadata": {},
   "outputs": [
    {
     "name": "stdout",
     "output_type": "stream",
     "text": [
      "{\n",
      "\"Название акта\": \"ПОСТАНОВЛЕНИЕ ГУБЕРНАТОРА ХАНТЫ-МАНСИЙСКОГО АВТОНОМНОГО ОКРУГА-ЮГРЫ от 28.12.2017 № 139\",\n",
      "\"Регистрационный номер\": \"139\",\n",
      "\"Дата принятия\": \"28 декабря 2017 года\",\n",
      "\"Дата вступления\": \"8 января 2018 года\",\n",
      "\"Дата опубликования\": \"28 декабря 2017 года\",\n",
      "\"Орган\": \"Губернатор Ханты-Мансийского автономного округа - Югры\",\n",
      "\"Тип документа\": \"Постановление\",\n",
      "\"Сфера регулирования\": \"Делопроизводство в государственных органах Ханты-Мансийского автономного округа - Югры и исполнительных органах государственной власти Ханты-Мансийского автономного округа - Югры\",\n",
      "\"Ключевые слова\": \"Делопроизводство, государственные органы, исполнительные органы, Ханты-Мансийский автономный округ - Югра, постановление, губернатор, нормативные правовые акты\"\n",
      "}\n"
     ]
    }
   ],
   "source": [
    "llama = conntect_to_llama_by_api(token)\n",
    "\n",
    "response = get_answer_by_api(list_docs[0][:10000], llama, system_prompt, question_json)\n",
    "print(response)\n",
    "json_response = json.loads(response)"
   ]
  },
  {
   "cell_type": "code",
   "execution_count": null,
   "id": "d671545c-a986-43e2-9fa0-20283950c2b0",
   "metadata": {},
   "outputs": [
    {
     "name": "stderr",
     "output_type": "stream",
     "text": [
      "  1%|▊                                                                            | 21/1856 [19:39<21:42:17, 42.58s/it]"
     ]
    }
   ],
   "source": [
    "metadata = []\n",
    "for doc in tqdm(new_docs):\n",
    "    token = ''  # llamaapi token\n",
    "    llama = conntect_to_llama_by_api(token)\n",
    "\n",
    "    while True:\n",
    "        try:\n",
    "            response = get_answer_by_api(doc[:10000], llama, system_prompt, question_json)\n",
    "            json_response = json.loads(response)\n",
    "            break\n",
    "        except:\n",
    "            continue\n",
    "    metadata.append(json_response)\n",
    "    with open('metadata.pkl', 'wb') as file:\n",
    "        pickle.dump(metadata, file)"
   ]
  },
  {
   "cell_type": "markdown",
   "id": "4f8d95d2-b90d-4656-92a8-9f7aab221380",
   "metadata": {},
   "source": [
    "## Попытка сделать суммаризацию для всех документов"
   ]
  },
  {
   "cell_type": "code",
   "execution_count": null,
   "id": "909841d4-42d5-4852-ac0d-8aa962c3f913",
   "metadata": {},
   "outputs": [
    {
     "name": "stderr",
     "output_type": "stream",
     "text": [
      "  1%|▌                                                                            | 13/1856 [10:18<23:56:42, 46.77s/it]"
     ]
    }
   ],
   "source": [
    "all_summarys = []\n",
    "for act in tqdm(new_docs):\n",
    "    llama = conntect_to_llama_by_api(token)\n",
    "    act_len = len(act)\n",
    "    if act_len > 35000:\n",
    "        i = 0\n",
    "        summarys = []\n",
    "        while act_len > i:\n",
    "            end = i + 35000\n",
    "            if end > act_len:\n",
    "                end = act_len\n",
    "            while True:\n",
    "                try:\n",
    "                    response_2 = get_answer_by_api(act[i:end], llama, system_prompt, question)\n",
    "                    break\n",
    "                except:\n",
    "                    llama = conntect_to_llama_by_api(token)\n",
    "                    continue\n",
    "            summarys.append(response_2)\n",
    "            i += 35000\n",
    "        response_2 = get_answer_by_api(' '.join(summarys), llama, system_prompt, question)\n",
    "        all_summarys.append(response_2)\n",
    "    else:\n",
    "        while True:\n",
    "            try:\n",
    "                response_2 = get_answer_by_api(act, llama, system_prompt, question)\n",
    "                break\n",
    "            except:\n",
    "                llama = conntect_to_llama_by_api(token)\n",
    "                continue\n",
    "        all_summarys.append(response_2)\n",
    "    with open('summary.pkl', 'wb') as file:\n",
    "        pickle.dump(all_summarys, file)"
   ]
  },
  {
   "cell_type": "code",
   "execution_count": null,
   "id": "e5a3809a-b639-4e4b-acf4-cd6f99cd0946",
   "metadata": {},
   "outputs": [],
   "source": [
    "i = 0\n",
    "summarys = []\n",
    "while len(new_docs[8]) > i:\n",
    "    end = i + 40000\n",
    "    if end > len(new_docs[8]):\n",
    "        end = len(new_docs[8])\n",
    "    response_2 = get_answer_by_api(new_docs[8][i: end], llama, system_prompt, question)\n",
    "    summarys.append(response_2)\n",
    "    i += 40000\n",
    "print(len(summarys))"
   ]
  },
  {
   "cell_type": "code",
   "execution_count": 72,
   "id": "b5c5426d-4b99-44e3-821e-3e527f18421d",
   "metadata": {},
   "outputs": [],
   "source": [
    "max_len = max([len(doc.split()) for doc in new_docs])\n",
    "for doc in new_docs:\n",
    "    if len(doc.split()) == max_len:\n",
    "        bad_doc = doc"
   ]
  },
  {
   "cell_type": "code",
   "execution_count": 63,
   "id": "26eda899-f1c1-49fc-959c-e42312c03068",
   "metadata": {},
   "outputs": [
    {
     "name": "stdout",
     "output_type": "stream",
     "text": [
      "86\n"
     ]
    }
   ],
   "source": [
    "count = 0\n",
    "for doc in new_docs:\n",
    "    if len(doc) > 40000:\n",
    "        count += 1\n",
    "print(count)"
   ]
  },
  {
   "cell_type": "code",
   "execution_count": 32,
   "id": "790e297d-a86e-49a3-ae85-1aefc0966953",
   "metadata": {},
   "outputs": [
    {
     "data": {
      "text/plain": [
       "186347"
      ]
     },
     "execution_count": 32,
     "metadata": {},
     "output_type": "execute_result"
    }
   ],
   "source": [
    "len(bad_doc)"
   ]
  },
  {
   "cell_type": "code",
   "execution_count": 78,
   "id": "0f160033-9736-486c-87a3-e968094c3418",
   "metadata": {},
   "outputs": [
    {
     "name": "stdout",
     "output_type": "stream",
     "text": [
      "Постановление Губернатора Ханты-Мансийского автономного округа - Югры от 24 июня 2013 года N 84 \"О схеме размещения, использования и охраны охотничьих угодий на территории Ханты-Мансийского автономного округа - Югры\".\n",
      "\n",
      "Основная суть документа: утверждение схемы размещения, использования и охраны охотничьих угодий на территории Ханты-Мансийского автономного округа - Югры.\n",
      "\n",
      "Ключевые положения:\n",
      "\n",
      "* Схема разработана в соответствии с Федеральным законом от 24.07.2009 N 209-ФЗ \"Об охоте и о сохранении охотничьих ресурсов и о внесении изменений в отдельные законодательные акты Российской Федерации\" и другими нормативно-правовыми актами.\n",
      "* Целью формирования схемы является планирование в области охоты и сохранения охотничьих ресурсов.\n",
      "* Схема включает в себя физико-географическое описание территории, социально-экономическую характеристику, характеристику размещения и состояния использования охотничьих угодий и охотничьих ресурсов, мероприятия по организации рационального использования охотничьих угодий и ресурсов.\n",
      "* Схема разработана на основе данных о климатических условиях, рельефе, геологическом строении территории и других факторов.\n",
      "* Документ утверждает схему размещения, использования и охраны охотничьих угодий на территории Ханты-Мансийского автономного округа - Югры.\n",
      "\n",
      "Числа, проценты, даты и внесенные изменения:\n",
      "\n",
      "* 24.06.2013 - дата принятия постановления.\n",
      "* N 84 - номер постановления.\n",
      "* 24.07.2009 - дата принятия Федерального закона N 209-ФЗ.\n",
      "* 2013 - год согласования Министерства природных ресурсов и экологии Российской Федерации.\n",
      "* 16.04.2013 - дата согласования Министерства природных ресурсов и экологии Российской Федерации.\n",
      "* N 04-15-29/7041 - номер согласования Министерства природных ресурсов и экологии Российской Федерации.\n",
      "* 534,8 тыс. кв. км - площадь Ханты-Мансийского автономного округа - Югры.\n",
      "* 3,1% - доля площади Ханты-Мансийского автономного округа - Югры в площади Российской Федерации.\n",
      "* 12 - место Ханты-Мансийского автономного округа - Югры по площади среди субъектов Российской Федерации.\n",
      "* 58 - 66 градусов северной широты - географическое положение Ханты-Мансийского автономного округа - Югры.\n",
      "* 59 - 86 градусов восточной долготы - географическое положение Ханты-Мансийского автономного округа - Югры.\n",
      "* 900 км - линейное выражение интервала широт.\n",
      "* 1400 км - линейное выражение интервала долгот.\n",
      "* 4750 км - общая протяженность внешних границ Ханты-Мансийского автономного округа - Югры.\n",
      "* 1000 - 1200 МДж/кв. м - радиационный баланс Ханты-Мансийского автономного округа - Югры.\n",
      "* 1600 - 1900 час. - продолжительность солнечного сияния в году.\n",
      "* 2 - 4 м/с - средние скорости ветра.\n",
      "* 5 - 7 м/с - скорости ветра в Приполярном Урале.\n",
      "* 3 - 5 м/с - скорости ветра в Северном Урале.\n",
      "* 1,8 - 2,6 м/с - скорости ветра в глубоко таежных районах Ханты-Мансийского автономного округа - Югры.\n",
      "* 4,9 - 5,1 м/с - скорости ветра в речных долинах.\n",
      "* 514 - 685 мм - среднее годовое количество осадков.\n",
      "* 100 - 160 мм - запас воды в снеге.\n",
      "* 146 - 117 мм - разность между наибольшими и наименьшими запасами воды в снеге.\n",
      "* 71 - 105 мм - разность между наибольшими и наименьшими запасами воды в снеге в отдельных населенных пунктах.\n",
      "* 180 - 200 дней - продолжительность залегания снежного покрова.\n",
      "* 70 см - высота снежного покрова.\n",
      "* 150 - 160 дней - продолжительность безморозного периода.\n",
      "* 110 - 160 дней - продолжительность периода со средней суточной температурой воздуха выше 10 °C.\n",
      "* 1600 - 2000 °C - сумма температур за период активной вегетации.\n",
      "* 20 - 30 °C - амплитуды структур.\n",
      "* 50 - 60 млн. лет - длительность перерыва в седиментации.\n",
      "* 250 - 300 м - толщина нижнеюрских отложений.\n",
      "* 20 - 30 м - мощность Баженовской свиты.\n",
      "* 100 - 200 м - мощность аномальных разрезов Баженовской свиты.\n",
      "* 25% - содержание углерода органически в битуминозных породах.\n",
      "* 2 - 3 км - глубина залегания подошвы фундамента.\n",
      "* 32 - 42 км - глубина залегания подошвы фундамента в отдельных районах.\n",
      "* 50 км - глубина залегания подошвы фундамента в Уральской складчатой системе.\n",
      "* 2,5 - 3 км - глубина залегания подошвы фундамента в Красноленинском своде.\n",
      "* 3,5 - 4,0 км - глубина залегания подошвы фундамента в Фроловской мегавпадине.\n",
      "* 10 - 14 км - мощность рифейских отложений.\n",
      "* 2 км - мощность ашинской серии.\n",
      "* 15 - 40 км - ширина Уралтауского антиклинория.\n",
      "* 100 - 120 км - длина гранитных интрузий.\n",
      "* 50 - 60 км - ширина гранитных интрузий.\n"
     ]
    }
   ],
   "source": [
    "# response = get_answer_by_api(bad_doc[len(bad_doc) // 2 : ], llama, system_prompt, question_json)\n",
    "# print(response)\n",
    "# json_response = json.loads(response)\n",
    "\n",
    "# print()\n",
    "response_2 = get_answer_by_api(bad_doc[:40000], llama, system_prompt, question)\n",
    "\n",
    "print(response_2)"
   ]
  },
  {
   "cell_type": "code",
   "execution_count": 97,
   "id": "81a0e406-964a-43c3-a9e3-75097f6599d3",
   "metadata": {},
   "outputs": [
    {
     "name": "stdout",
     "output_type": "stream",
     "text": [
      "1\n"
     ]
    }
   ],
   "source": [
    "i = 0\n",
    "summarys = []\n",
    "while len(new_docs[8]) > i:\n",
    "    end = i + 40000\n",
    "    if end > len(new_docs[8]):\n",
    "        end = len(new_docs[8])\n",
    "    response_2 = get_answer_by_api(new_docs[8][i: end], llama, system_prompt, question)\n",
    "    summarys.append(response_2)\n",
    "    i += 40000\n",
    "print(len(summarys))"
   ]
  },
  {
   "cell_type": "code",
   "execution_count": 96,
   "id": "805c2d30-b41b-4dd5-bb98-c24fbaa9619a",
   "metadata": {},
   "outputs": [
    {
     "data": {
      "text/plain": [
       "'Пожалуйста, предоставьте текст нормативно-правового акта, и я суммирую его для вас.'"
      ]
     },
     "execution_count": 96,
     "metadata": {},
     "output_type": "execute_result"
    }
   ],
   "source": [
    "get_answer_by_api(' '.join(summarys), llama, system_prompt, question)"
   ]
  },
  {
   "cell_type": "code",
   "execution_count": 127,
   "id": "0591b4c8-202a-4ff7-a91b-d46c688a8e59",
   "metadata": {},
   "outputs": [
    {
     "name": "stdout",
     "output_type": "stream",
     "text": [
      "{\n",
      "    \"Название акта\": \"ПОСТАНОВЛЕНИЕ ГУБЕРНАТОРА ХАНТЫ-МАНСИЙСКОГО АВТОНОМНОГО ОКРУГА-ЮГРЫ\",\n",
      "    \"Регистрационный номер\": \"139\",\n",
      "    \"Дата принятия\": \"28.12.2017\",\n",
      "    \"Дата вступления\": \"01.07.2018\",\n",
      "    \"Дата опубликования\": \"Не указана\",\n",
      "    \"Орган\": \"Губернатор Ханты-Мансийского автономного округа - Югры\",\n",
      "    \"Тип документа\": \"Постановление\",\n",
      "    \"Сфера регулирования\": \"Делопроизводство в государственных органах\",\n",
      "    \"Ключевые слова\": \"Делопроизводство, государственные органы, Ханты-Мансийский автономный округ - Югра\"\n",
      "}\n"
     ]
    }
   ],
   "source": [
    "while True:\n",
    "    try:\n",
    "         # Если модель уже возвращает что-то похожее на JSON\n",
    "        response = get_answer_by_api(list_docs[0], llama, system_prompt, question_json)\n",
    "        print(response)\n",
    "        json_response = json.loads(response)\n",
    "        break\n",
    "    except:\n",
    "        print('Eror')\n",
    "        print()\n",
    "        continue"
   ]
  },
  {
   "cell_type": "code",
   "execution_count": 128,
   "id": "790af443-16b2-43f3-b157-2aa63136e9ea",
   "metadata": {},
   "outputs": [
    {
     "data": {
      "text/plain": [
       "'{\\n  \"Название акта\": \"ПОСТАНОВЛЕНИЕ ГУБЕРНАТОРА ХАНТЫ-МАНСИЙСКОГО АВТОНОМНОГО ОКРУГА-ЮГРЫ\",\\n  \"Регистрационный номер\": \"139\",\\n  \"Дата принятия\": \"28.12.2017\",\\n  \"Дата вступления\": \"01.07.2018\",\\n  \"Дата опубликования\": \"Не указана\",\\n  \"Орган\": \"Губернатор Ханты-Мансийского автономного округа - Югры\",\\n  \"Тип документа\": \"Постановление\",\\n  \"Сфера регулирования\": \"Делопроизводство в государственных органах\",\\n  \"Ключевые слова\": \"Делопроизводство, государственные органы, Ханты-Мансийский автономный округ - Югра\"\\n}'"
      ]
     },
     "execution_count": 128,
     "metadata": {},
     "output_type": "execute_result"
    }
   ],
   "source": [
    "llama = conntect_to_llama_by_api(token)\n",
    "get_answer_by_api(list_docs[0], llama, system_prompt, question_json)"
   ]
  },
  {
   "cell_type": "code",
   "execution_count": 12,
   "id": "4ab7e1ac-e447-458f-be4c-7cbbcfa9e405",
   "metadata": {},
   "outputs": [
    {
     "name": "stderr",
     "output_type": "stream",
     "text": [
      "100%|██████████████████████████████████████████████████████████████████████████████████| 10/10 [00:31<00:00,  3.18s/it]\n"
     ]
    }
   ],
   "source": [
    "summarys = make_summary(list_docs[:10], llama, system_prompt, question)  # TODO: use full data"
   ]
  }
 ],
 "metadata": {
  "kernelspec": {
   "display_name": "Python 3 (ipykernel)",
   "language": "python",
   "name": "python3"
  },
  "language_info": {
   "codemirror_mode": {
    "name": "ipython",
    "version": 3
   },
   "file_extension": ".py",
   "mimetype": "text/x-python",
   "name": "python",
   "nbconvert_exporter": "python",
   "pygments_lexer": "ipython3",
   "version": "3.10.11"
  }
 },
 "nbformat": 4,
 "nbformat_minor": 5
}
