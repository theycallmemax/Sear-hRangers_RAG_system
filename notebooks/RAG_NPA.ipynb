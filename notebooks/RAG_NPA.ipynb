{
 "cells": [
  {
   "cell_type": "markdown",
   "id": "0a6a2839-6cf3-4bce-9e17-ff4f55f21988",
   "metadata": {},
   "source": [
    "# <center> RAG для нормативно правовых актов </center>"
   ]
  },
  {
   "cell_type": "code",
   "execution_count": 1,
   "id": "5f61407f-9b11-44dc-8159-4e0989cf7f58",
   "metadata": {},
   "outputs": [],
   "source": [
    "import os\n",
    "\n",
    "import torch.nn.functional as F\n",
    "from torch import Tensor\n",
    "from transformers import AutoTokenizer, AutoModel\n",
    "import torch\n",
    "\n",
    "from pymilvus import MilvusClient\n",
    "\n",
    "from langchain_openai import ChatOpenAI\n",
    "from langchain.chains import create_retrieval_chain\n",
    "from langchain.chains.combine_documents import create_stuff_documents_chain\n",
    "from langchain_core.prompts import ChatPromptTemplate\n",
    "from langchain_community.llms import HuggingFaceEndpoint\n",
    "\n",
    "\n",
    "os.environ['HUGGINGFACEHUB_API_TOKEN'] = ''"
   ]
  },
  {
   "cell_type": "markdown",
   "id": "e4c9d9a8-fe14-48a7-898e-2c51850b42ca",
   "metadata": {},
   "source": [
    "### Функции для подготовки данных для хранилища"
   ]
  },
  {
   "cell_type": "markdown",
   "id": "2f981b29-083b-43eb-9284-2d2b8d12883a",
   "metadata": {},
   "source": [
    "Функции для создания эмбеддингов. Надо заняться тем, чтобы сделать на сервере эмбеддинг каждого акта при помощи mistral e5"
   ]
  },
  {
   "cell_type": "code",
   "execution_count": 2,
   "id": "2b1ae054-66c8-475d-935e-303db18cd30e",
   "metadata": {},
   "outputs": [],
   "source": [
    "# For embedding model multilingual-e5-base\n",
    "\n",
    "def average_pool(\n",
    "    last_hidden_states: Tensor,\n",
    "     attention_mask: Tensor\n",
    ") -> Tensor:\n",
    "    last_hidden = last_hidden_states.masked_fill(~attention_mask[..., None].bool(), 0.0)\n",
    "    return last_hidden.sum(dim=1) / attention_mask.sum(dim=1)[..., None]\n",
    "\n",
    "def make_embedding(input_texts, model, tokenizer):\n",
    "    batch_dict = tokenizer(\n",
    "        input_texts, max_length=512, \n",
    "        padding=True, truncation=True, \n",
    "        return_tensors='pt'\n",
    "    )\n",
    "    outputs = model(**batch_dict)\n",
    "    embeddings = average_pool(outputs.last_hidden_state, batch_dict['attention_mask'])\n",
    "    embeddings = F.normalize(embeddings, p=2, dim=1)\n",
    "    return embeddings.tolist()"
   ]
  },
  {
   "cell_type": "markdown",
   "id": "6945083f-c11b-486d-96fa-235e30202262",
   "metadata": {},
   "source": [
    "В milvus можно вставлять данные как список словарей. В каждом словаре в поле \"vector\" лежит эмбединг, потом по этому полю будет идти поиск. Остальные поля это мета данные. Тут я пока не подогла поля под нашу задачу"
   ]
  },
  {
   "cell_type": "code",
   "execution_count": 3,
   "id": "a69ce581-f299-40ca-af5b-be0efdacedb7",
   "metadata": {},
   "outputs": [],
   "source": [
    "def converting_data(embeds, summurys, original_texts, id_begin=0):\n",
    "    data = []\n",
    "\n",
    "    for i, (embed, summury, original_text) in enumerate(zip(embeds, summurys, original_texts)):\n",
    "        data.append({\n",
    "            'id': id_begin + i, \n",
    "            'vector': embed, \n",
    "            'summury': summury, \n",
    "            'original_text': original_text,  # TODO: add meta data\n",
    "        })\n",
    "    \n",
    "    return data"
   ]
  },
  {
   "cell_type": "code",
   "execution_count": 4,
   "id": "e6f6528c-feae-4753-b43f-1287ec1561e7",
   "metadata": {},
   "outputs": [],
   "source": [
    "system_prompt = \"\"\"\n",
    "    Ты разговариваешь только на русском языке. Ты - профессиональный юрист. За каждый правильный ответ ты будешь получать по 100$.\n",
    "\"\"\"\n",
    "\n",
    "question = \"\"\" \n",
    "    Ты разговариваешь только на русском языке. Ты специалист по юристпруденции. \n",
    "    Тебе на вход приходит нормативно правовой акт. \n",
    "    Суммаризируй его, найди основную суть документа. \n",
    "    Твой ответ должен быть кратким, в ответе просто напиши саммари без лишних вводных фраз. \n",
    "    Особое внимание удели числам, процентам, датам и внесенным изменениям.\n",
    "    Нормативно-правовой акт:\n",
    "    {context}\n",
    "\"\"\""
   ]
  },
  {
   "cell_type": "code",
   "execution_count": 5,
   "id": "17a704e9-0509-42a6-8481-0d2d35c96b4b",
   "metadata": {},
   "outputs": [],
   "source": [
    "from llamaapi import LlamaAPI\n",
    "\n",
    "def conntect_to_llama_by_api(llama_token):\n",
    "    llama = LlamaAPI(llama_token)\n",
    "    return llama\n",
    "\n",
    "def get_answer_by_api(context, llm, system_prompt, question, max_tokens=4096,temperature=0.1):\n",
    "    api_request_json = {\n",
    "        'model': 'llama3.1-8b',\n",
    "        'max_tokens': max_tokens,\n",
    "        'temperature': temperature,\n",
    "        \"messages\": [\n",
    "            {'role': 'system', 'content': system_prompt},\n",
    "            {'role': 'user', 'content': question.format(context=context)}\n",
    "        ]\n",
    "    }\n",
    "    response = llm.run(api_request_json)\n",
    "    return response.json()['choices'][0]['message']['content']\n",
    "    "
   ]
  },
  {
   "cell_type": "code",
   "execution_count": 6,
   "id": "9c21647f-7426-4de4-b950-8ab910970d1e",
   "metadata": {},
   "outputs": [],
   "source": [
    "from tqdm import tqdm\n",
    "\n",
    "def make_summary(docs, llm, system_prompt, question, get_answer_func=get_answer_by_api):\n",
    "    summarys = []\n",
    "    for doc in tqdm(docs):\n",
    "        summarys.append(get_answer_func(doc, llm, system_prompt, question))\n",
    "    return summarys"
   ]
  },
  {
   "cell_type": "markdown",
   "id": "c2bf9196-d076-4ec8-b29a-1b1b0dbb9dd1",
   "metadata": {},
   "source": [
    "### Подготовка данных для хранилища"
   ]
  },
  {
   "cell_type": "code",
   "execution_count": 7,
   "id": "68a37de7-1e33-4f05-92e7-c5bab4ee6527",
   "metadata": {},
   "outputs": [],
   "source": [
    "data_path = ''  # path to dataset\n",
    "\n",
    "with open(data_path, encoding='utf8') as file:\n",
    "    txt = file.read()\n",
    "\n",
    "list_docs = txt.split('\\n')\n",
    "list_docs = [doc for doc in list_docs if doc]"
   ]
  },
  {
   "cell_type": "code",
   "execution_count": 14,
   "id": "4ab7e1ac-e447-458f-be4c-7cbbcfa9e405",
   "metadata": {},
   "outputs": [
    {
     "name": "stderr",
     "output_type": "stream",
     "text": [
      "100%|██████████████████████████████████████████████████████████████████████████████████████████████████████████████████████████████████████| 10/10 [00:26<00:00,  2.65s/it]\n"
     ]
    }
   ],
   "source": [
    "summarys = make_summary(list_docs[:10], llama, system_prompt, question)  # TODO: use full data"
   ]
  },
  {
   "cell_type": "code",
   "execution_count": null,
   "id": "8fcce2b0-cbf7-4b89-8de8-fd89971ce581",
   "metadata": {},
   "outputs": [],
   "source": []
  },
  {
   "cell_type": "code",
   "execution_count": 12,
   "id": "6c032b44-6033-4117-b6d1-94d16bea4e2a",
   "metadata": {},
   "outputs": [
    {
     "data": {
      "text/plain": [
       "'В постановлении Губернатора Ханты-Мансийского автономного округа-Югры от 28.12.2017 № 139 вносятся изменения в Инструкцию по делопроизводству в государственных органах Ханты-Мансийского автономного округа-Югры и исполнительных органах государственной власти Ханты-Мансийского автономного округа-Югры. \\n\\nИзменения касаются следующих разделов:\\n\\n- раздела I: заменены ссылки на ГОСТ Р 6.30-2003 на ГОСТ Р 7.0.97-2016;\\n- раздела III: изменены требования к оформлению реквизита \"Адресат\", добавлены правила для адресования документов физическим лицам, а также правила для отправки документов по электронной почте или по факсимильной связи;\\n- раздела IV: изменены правила хранения и регистрации документов, добавлены правила для регистрации документов в СЭД;\\n- раздела VII: добавлены правила для согласования обращений в федеральные органы государственной власти;\\n- раздела X: заменены ссылки на ГОСТ Р 6.30-2003 на ГОСТ Р 7.0.97-2016.\\n\\nИзменения вступают в силу с 1 июля 2018 года.'"
      ]
     },
     "execution_count": 12,
     "metadata": {},
     "output_type": "execute_result"
    }
   ],
   "source": [
    "token = ''  # llamaapi token\n",
    "llama = conntect_to_llama_by_api(token)\n",
    "get_answer_by_api(doc, llama, system_prompt, question)"
   ]
  },
  {
   "cell_type": "code",
   "execution_count": 8,
   "id": "7491bc4a-b49f-4d3a-8a0e-9023b8309ac2",
   "metadata": {},
   "outputs": [
    {
     "data": {
      "text/plain": [
       "'ПОСТАНОВЛЕНИЕ ГУБЕРНАТОРА ХАНТЫ-МАНСИЙСКОГО АВТОНОМНОГО ОКРУГА-ЮГРЫ от 28.12.2017 № 139.  О ВНЕСЕНИИ ИЗМЕНЕНИЙ В ПРИЛОЖЕНИЕ К ПОСТАНОВЛЕНИЮ ГУБЕРНАТОРА ХАНТЫ-МАНСИЙСКОГО АВТОНОМНОГО ОКРУГА – ЮГРЫ ОТ 30 ДЕКАБРЯ 2012 ГОДА N 176 \"ОБ ИНСТРУКЦИИ ПО ДЕЛОПРОИЗВОДСТВУ В ГОСУДАРСТВЕННЫХ ОРГАНАХ ХАНТЫ-МАНСИЙСКОГО АВТОНОМНОГО ОКРУГА - ЮГРЫ И ИСПОЛНИТЕЛЬНЫХ ОРГАНАХ ГОСУДАРСТВЕННОЙ ВЛАСТИ ХАНТЫ-МАНСИЙСКОГО АВТОНОМНОГО ОКРУГА - ЮГРЫ\" ГУБЕРНАТОР ХАНТЫ-МАНСИЙСКОГО АВТОНОМНОГО ОКРУГА - ЮГРЫ ПОСТАНОВЛЕНИЕ от 28 д'"
      ]
     },
     "execution_count": 8,
     "metadata": {},
     "output_type": "execute_result"
    }
   ],
   "source": [
    "doc = list_docs[0]\n",
    "doc[:500]"
   ]
  },
  {
   "cell_type": "code",
   "execution_count": 20,
   "id": "886a44ad-21cc-4e19-9250-b5335dc5a0e7",
   "metadata": {},
   "outputs": [],
   "source": [
    "tokenizer = AutoTokenizer.from_pretrained('intfloat/multilingual-e5-base')\n",
    "model = AutoModel.from_pretrained('intfloat/multilingual-e5-base')\n",
    "\n",
    "embeddings = make_embedding(summarys, model, tokenizer)\n",
    "embedding_dim = len(embeddings[0])\n",
    "insert_data = converting_data(embeddings, summarys, list_docs)"
   ]
  },
  {
   "cell_type": "markdown",
   "id": "5d7dbbce-a0d8-4364-8a6c-5194987112bf",
   "metadata": {},
   "source": [
    "### Создание коллекции данных"
   ]
  },
  {
   "cell_type": "code",
   "execution_count": 22,
   "id": "cdab342c-2fed-41a6-8348-0cf562c05ab4",
   "metadata": {},
   "outputs": [],
   "source": [
    "client = MilvusClient(uri=\"./milvus_demo.db\")\n",
    "\n",
    "collection_name = \"acts\""
   ]
  },
  {
   "cell_type": "code",
   "execution_count": 23,
   "id": "e2bbe722-a258-46ae-bd70-689d06f1f729",
   "metadata": {},
   "outputs": [
    {
     "data": {
      "text/plain": [
       "True"
      ]
     },
     "execution_count": 23,
     "metadata": {},
     "output_type": "execute_result"
    }
   ],
   "source": [
    "client.has_collection(collection_name=collection_name)"
   ]
  },
  {
   "cell_type": "code",
   "execution_count": null,
   "id": "d049d05d-fffa-4ef7-a0da-a0f94b14fff7",
   "metadata": {},
   "outputs": [],
   "source": [
    "# удаление коллекции\n",
    "\n",
    "# if client.has_collection(collection_name=collection_name):\n",
    "#     client.drop_collection(collection_name=collection_name)"
   ]
  },
  {
   "cell_type": "code",
   "execution_count": 24,
   "id": "c215a987-12c6-430e-b752-4a86d27dbd33",
   "metadata": {},
   "outputs": [
    {
     "data": {
      "text/plain": [
       "{'insert_count': 10, 'ids': [0, 1, 2, 3, 4, 5, 6, 7, 8, 9], 'cost': 0}"
      ]
     },
     "execution_count": 24,
     "metadata": {},
     "output_type": "execute_result"
    }
   ],
   "source": [
    "# Создание колекции данных\n",
    "client.create_collection(\n",
    "    collection_name=collection_name,\n",
    "    dimension=embedding_dim,\n",
    "    metric_type=\"COSINE\"  # Inner product distance\n",
    ")\n",
    "\n",
    "# Вставка данных в коллекцию\n",
    "client.insert(collection_name=collection_name, data=insert_data)"
   ]
  },
  {
   "cell_type": "markdown",
   "id": "623b337a-72f1-43a9-9618-591b1580ad8e",
   "metadata": {},
   "source": [
    "## Поиск по коллекции"
   ]
  },
  {
   "cell_type": "markdown",
   "id": "9a59ab10-b6c6-405a-a4db-30851517b974",
   "metadata": {},
   "source": [
    "Нужно добавить переформулировку запроса перед тем как делать из него эмбеддинг"
   ]
  },
  {
   "cell_type": "code",
   "execution_count": 36,
   "id": "0855b4d4-2f09-4900-8394-96384dd92c8f",
   "metadata": {},
   "outputs": [],
   "source": [
    "# можно делать запрос на переформулировку\n",
    "\n",
    "quary = 'Кто явяется губернатором ХМАО?'\n",
    "\n",
    "embedding_quary = make_embedding(quary, model, tokenizer)"
   ]
  },
  {
   "cell_type": "markdown",
   "id": "bd4600e4-f493-4c4f-9847-b01d502cd21c",
   "metadata": {},
   "source": [
    "### Поиск топ 5 подходящих документов"
   ]
  },
  {
   "cell_type": "code",
   "execution_count": 37,
   "id": "49aa313b-a492-40fa-9f7a-00afbbace659",
   "metadata": {},
   "outputs": [],
   "source": [
    "search_res = client.search(\n",
    "    collection_name=collection_name,\n",
    "    data=embedding_quary, \n",
    "    limit=5,\n",
    "    search_params={\"metric_type\": \"COSINE\", \"params\": {}}, \n",
    "    output_fields=[\"summary\"],  # Return the text field\n",
    ")"
   ]
  },
  {
   "cell_type": "code",
   "execution_count": 38,
   "id": "e03dcc4d-5227-43ee-b8c8-bcaac3927466",
   "metadata": {},
   "outputs": [
    {
     "data": {
      "text/plain": [
       "data: [\"[{'id': 3, 'distance': 0.7847653031349182, 'entity': {}}, {'id': 1, 'distance': 0.7771220803260803, 'entity': {}}, {'id': 2, 'distance': 0.7715886235237122, 'entity': {}}, {'id': 4, 'distance': 0.7688708305358887, 'entity': {}}]\"] "
      ]
     },
     "execution_count": 38,
     "metadata": {},
     "output_type": "execute_result"
    }
   ],
   "source": [
    "search_res"
   ]
  },
  {
   "cell_type": "code",
   "execution_count": 40,
   "id": "30256f55-0ccb-48cf-a110-a2c16b506c94",
   "metadata": {},
   "outputs": [
    {
     "data": {
      "text/plain": [
       "3"
      ]
     },
     "execution_count": 40,
     "metadata": {},
     "output_type": "execute_result"
    }
   ],
   "source": [
    "search_res[0][0]['id']"
   ]
  },
  {
   "cell_type": "code",
   "execution_count": 102,
   "id": "0d62f7ef-3f70-45cc-a728-7d4617d1dcfa",
   "metadata": {},
   "outputs": [
    {
     "ename": "KeyError",
     "evalue": "'summary'",
     "output_type": "error",
     "traceback": [
      "\u001b[0;31m---------------------------------------------------------------------------\u001b[0m",
      "\u001b[0;31mKeyError\u001b[0m                                  Traceback (most recent call last)",
      "Cell \u001b[0;32mIn[102], line 1\u001b[0m\n\u001b[0;32m----> 1\u001b[0m retrieved_lines_with_distances \u001b[38;5;241m=\u001b[39m [\n\u001b[1;32m      2\u001b[0m     (res[\u001b[38;5;124m\"\u001b[39m\u001b[38;5;124mentity\u001b[39m\u001b[38;5;124m\"\u001b[39m][\u001b[38;5;124m\"\u001b[39m\u001b[38;5;124msummary\u001b[39m\u001b[38;5;124m\"\u001b[39m], res[\u001b[38;5;124m\"\u001b[39m\u001b[38;5;124mdistance\u001b[39m\u001b[38;5;124m\"\u001b[39m]) \u001b[38;5;28;01mfor\u001b[39;00m res \u001b[38;5;129;01min\u001b[39;00m search_res[\u001b[38;5;241m0\u001b[39m]\n\u001b[1;32m      3\u001b[0m ]\n\u001b[1;32m      5\u001b[0m \u001b[38;5;28;01mfor\u001b[39;00m text, name, res \u001b[38;5;129;01min\u001b[39;00m retrieved_lines_with_distances:\n\u001b[1;32m      6\u001b[0m     \u001b[38;5;28mprint\u001b[39m(name, \u001b[38;5;124m'\u001b[39m\u001b[38;5;130;01m\\n\u001b[39;00m\u001b[38;5;124m'\u001b[39m)\n",
      "Cell \u001b[0;32mIn[102], line 2\u001b[0m, in \u001b[0;36m<listcomp>\u001b[0;34m(.0)\u001b[0m\n\u001b[1;32m      1\u001b[0m retrieved_lines_with_distances \u001b[38;5;241m=\u001b[39m [\n\u001b[0;32m----> 2\u001b[0m     (\u001b[43mres\u001b[49m\u001b[43m[\u001b[49m\u001b[38;5;124;43m\"\u001b[39;49m\u001b[38;5;124;43mentity\u001b[39;49m\u001b[38;5;124;43m\"\u001b[39;49m\u001b[43m]\u001b[49m\u001b[43m[\u001b[49m\u001b[38;5;124;43m\"\u001b[39;49m\u001b[38;5;124;43msummary\u001b[39;49m\u001b[38;5;124;43m\"\u001b[39;49m\u001b[43m]\u001b[49m, res[\u001b[38;5;124m\"\u001b[39m\u001b[38;5;124mdistance\u001b[39m\u001b[38;5;124m\"\u001b[39m]) \u001b[38;5;28;01mfor\u001b[39;00m res \u001b[38;5;129;01min\u001b[39;00m search_res[\u001b[38;5;241m0\u001b[39m]\n\u001b[1;32m      3\u001b[0m ]\n\u001b[1;32m      5\u001b[0m \u001b[38;5;28;01mfor\u001b[39;00m text, name, res \u001b[38;5;129;01min\u001b[39;00m retrieved_lines_with_distances:\n\u001b[1;32m      6\u001b[0m     \u001b[38;5;28mprint\u001b[39m(name, \u001b[38;5;124m'\u001b[39m\u001b[38;5;130;01m\\n\u001b[39;00m\u001b[38;5;124m'\u001b[39m)\n",
      "\u001b[0;31mKeyError\u001b[0m: 'summary'"
     ]
    }
   ],
   "source": [
    "retrieved_lines_with_distances = [\n",
    "    (res[\"id\"][\"summary\"], res[\"distance\"]) for res in search_res[0]\n",
    "]\n",
    "\n",
    "for text, res in retrieved_lines_with_distances:\n",
    "    print(name, '\\n')\n",
    "    print('Близость =', res, '\\n\\n')"
   ]
  },
  {
   "cell_type": "code",
   "execution_count": null,
   "id": "41990e17-34ce-4406-970e-69fe043dc53e",
   "metadata": {},
   "outputs": [],
   "source": []
  },
  {
   "cell_type": "markdown",
   "id": "e4607555-8ee8-4c72-a0c3-2287a6ff476d",
   "metadata": {},
   "source": [
    "### Генерация ответа LLM"
   ]
  },
  {
   "cell_type": "markdown",
   "id": "c244b8b9-cee5-4611-baeb-a10bacfd491f",
   "metadata": {},
   "source": [
    "подтянем llm c HuggingFace, для этого в строке импортов введи свой токен с HuggingFace"
   ]
  },
  {
   "cell_type": "code",
   "execution_count": null,
   "id": "f34dc907-74bf-4bf9-b80a-0b770727e952",
   "metadata": {},
   "outputs": [],
   "source": [
    "system_prompt = \"\"\"\n",
    "    Ты разговариваешь только на русском языке. Ты - профессиональный юрист. За каждый правильный ответ ты будешь получать по 100$.\n",
    "\"\"\"\n",
    "\n",
    "question = \"\"\" \n",
    "    Ты разговариваешь только на русском языке. Ответь на вопрос, опираясь на нормативно-правовые акты из контектса\n",
    "    Контекст: {context}\n",
    "\"\"\"\n",
    "llm = conntect_to_llama_by_api(token)\n",
    "\n",
    "# TODO: сделать подгрузку контекста из БД\n",
    "# TODO: протестировать качество ответа\n",
    "\n",
    "print(get_answer_by_api(context, llm, system_prompt, question, max_tokens=4096,temperature=0.5))\n"
   ]
  },
  {
   "cell_type": "code",
   "execution_count": null,
   "id": "218cdd1e-d3d8-49ad-bf0c-cb48e7fc691e",
   "metadata": {},
   "outputs": [],
   "source": []
  }
 ],
 "metadata": {
  "kernelspec": {
   "display_name": "Python 3 (ipykernel)",
   "language": "python",
   "name": "python3"
  },
  "language_info": {
   "codemirror_mode": {
    "name": "ipython",
    "version": 3
   },
   "file_extension": ".py",
   "mimetype": "text/x-python",
   "name": "python",
   "nbconvert_exporter": "python",
   "pygments_lexer": "ipython3",
   "version": "3.10.11"
  }
 },
 "nbformat": 4,
 "nbformat_minor": 5
}
